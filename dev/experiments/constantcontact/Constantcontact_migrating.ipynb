{
  "cells": [
    {
      "cell_type": "markdown",
      "metadata": {
        "id": "DyOLt4UNi5Gs"
      },
      "source": [
        "Use the Constant Contact API to extract the required data."
      ]
    },
    {
      "cell_type": "markdown",
      "metadata": {
        "id": "jASWnJK_67jL"
      },
      "source": [
        "# 新段落"
      ]
    },
    {
      "cell_type": "markdown",
      "metadata": {
        "id": "qoAUt_ed6838"
      },
      "source": []
    },
    {
      "cell_type": "code",
      "execution_count": null,
      "metadata": {
        "id": "SB1557I3iwSc"
      },
      "outputs": [],
      "source": [
        "# import the necessary libraries\n",
        "import requests\n",
        "import pandas as pd\n",
        "import json"
      ]
    },
    {
      "cell_type": "code",
      "execution_count": null,
      "metadata": {
        "id": "-rRteYAVjPls"
      },
      "outputs": [],
      "source": [
        "# Extract data using API (part 1)\n",
        "# set the url\n",
        "url = 'https://api.constantcontact.com/v2/emailmarketing/campaigns/1140300363415?api_key=xxx'"
      ]
    },
    {
      "cell_type": "code",
      "execution_count": null,
      "metadata": {
        "id": "TcKFUUWQkBQE"
      },
      "outputs": [],
      "source": [
        "# set the authorization token. replace 'your_token' with the actual token.\n",
        "headers = {'Authorization': 'Bearer xxx'}"
      ]
    },
    {
      "cell_type": "code",
      "execution_count": null,
      "metadata": {
        "id": "x5uZ78DkkHKT"
      },
      "outputs": [],
      "source": [
        "# send the get request\n",
        "response = requests.get(url, headers=headers)"
      ]
    },
    {
      "cell_type": "code",
      "execution_count": null,
      "metadata": {
        "id": "uLv9D_PTtDYq"
      },
      "outputs": [],
      "source": [
        "# raise an exception in case the get request was unsuccessful\n",
        "response.raise_for_status()"
      ]
    },
    {
      "cell_type": "code",
      "execution_count": null,
      "metadata": {
        "id": "qmZ8OkO9tGGR"
      },
      "outputs": [],
      "source": [
        "# load the response as a json\n",
        "data = response.json()"
      ]
    },
    {
      "cell_type": "code",
      "execution_count": null,
      "metadata": {
        "id": "JZQP1AiRtKtx"
      },
      "outputs": [],
      "source": [
        "# convert the json data into a pandas dataframe\n",
        "df = pd.json_normalize(data)"
      ]
    },
    {
      "cell_type": "code",
      "execution_count": null,
      "metadata": {
        "id": "Y1p37-VFtPXZ"
      },
      "outputs": [],
      "source": [
        "# save the dataframe to a csv file\n",
        "df.to_csv('email_compaign5.0.csv', index=False)"
      ]
    },
    {
      "cell_type": "code",
      "execution_count": null,
      "metadata": {
        "colab": {
          "base_uri": "https://localhost:8080/"
        },
        "id": "vfWVvPNdtb2J",
        "outputId": "81257b2f-eb05-481e-c9a4-65adde189271"
      },
      "outputs": [
        {
          "name": "stdout",
          "output_type": "stream",
          "text": [
            "Data exported to email_compaign5.0.csv\n",
            "              id                  name  \\\n",
            "0  1140300363415  Restaurant Marketing   \n",
            "\n",
            "                                             subject status   from_name  \\\n",
            "0  Optimizie And Drive Growth for Your Business w...   SENT  ContAIn AI   \n",
            "\n",
            "                   from_email              reply_to_email template_type  \\\n",
            "0  mahima@siriusmindshare.com  mahima@siriusmindshare.com   TEMPLATE_V2   \n",
            "\n",
            "               created_date             modified_date  ...  \\\n",
            "0  2023-06-16T04:10:35.357Z  2023-06-16T05:14:54.458Z  ...   \n",
            "\n",
            "  message_footer.postal_code message_footer.include_forward_email  \\\n",
            "0                      95135                                False   \n",
            "\n",
            "   message_footer.include_subscribe_link tracking_summary.sends  \\\n",
            "0                                  False                      5   \n",
            "\n",
            "   tracking_summary.opens tracking_summary.clicks tracking_summary.forwards  \\\n",
            "0                       2                       0                         0   \n",
            "\n",
            "  tracking_summary.unsubscribes tracking_summary.bounces  \\\n",
            "0                             0                        2   \n",
            "\n",
            "  tracking_summary.spam_count  \n",
            "0                           0  \n",
            "\n",
            "[1 rows x 40 columns]\n"
          ]
        }
      ],
      "source": [
        "# confirm the operation\n",
        "print(\"Data exported to email_compaign5.0.csv\")\n",
        "print(df.head())"
      ]
    },
    {
      "cell_type": "code",
      "execution_count": null,
      "metadata": {
        "colab": {
          "base_uri": "https://localhost:8080/",
          "height": 17
        },
        "id": "WInWThM0tf3Z",
        "outputId": "e7554dc9-20a5-4b4c-e72a-96bbb10d8c81"
      },
      "outputs": [
        {
          "data": {
            "application/javascript": "\n    async function download(id, filename, size) {\n      if (!google.colab.kernel.accessAllowed) {\n        return;\n      }\n      const div = document.createElement('div');\n      const label = document.createElement('label');\n      label.textContent = `Downloading \"${filename}\": `;\n      div.appendChild(label);\n      const progress = document.createElement('progress');\n      progress.max = size;\n      div.appendChild(progress);\n      document.body.appendChild(div);\n\n      const buffers = [];\n      let downloaded = 0;\n\n      const channel = await google.colab.kernel.comms.open(id);\n      // Send a message to notify the kernel that we're ready.\n      channel.send({})\n\n      for await (const message of channel.messages) {\n        // Send a message to notify the kernel that we're ready.\n        channel.send({})\n        if (message.buffers) {\n          for (const buffer of message.buffers) {\n            buffers.push(buffer);\n            downloaded += buffer.byteLength;\n            progress.value = downloaded;\n          }\n        }\n      }\n      const blob = new Blob(buffers, {type: 'application/binary'});\n      const a = document.createElement('a');\n      a.href = window.URL.createObjectURL(blob);\n      a.download = filename;\n      div.appendChild(a);\n      a.click();\n      div.remove();\n    }\n  ",
            "text/plain": [
              "<IPython.core.display.Javascript object>"
            ]
          },
          "metadata": {},
          "output_type": "display_data"
        },
        {
          "data": {
            "application/javascript": "download(\"download_dd5fee71-b258-4369-af34-72945ce7a169\", \"email_compaign5.0.csv\", 1537)",
            "text/plain": [
              "<IPython.core.display.Javascript object>"
            ]
          },
          "metadata": {},
          "output_type": "display_data"
        }
      ],
      "source": [
        "from google.colab import files\n",
        "\n",
        "files.download('email_compaign5.0.csv')"
      ]
    },
    {
      "cell_type": "code",
      "execution_count": null,
      "metadata": {
        "id": "-4G-rhSFuZvr"
      },
      "outputs": [],
      "source": [
        "## Constantcantact Data (part 2)\n",
        "url = 'https://api.constantcontact.com/v2/contacts?status=ALL&limit=500&api_key=xxx'\n",
        "headers = {\n",
        "    'Authorization': 'Bearer xxx'\n",
        "}"
      ]
    },
    {
      "cell_type": "code",
      "execution_count": null,
      "metadata": {
        "colab": {
          "base_uri": "https://localhost:8080/"
        },
        "id": "n8OfHFvkIn-9",
        "outputId": "aa7776b7-2120-4b95-d474-24e84c614aaf"
      },
      "outputs": [
        {
          "name": "stdout",
          "output_type": "stream",
          "text": [
            "             id  status fax notes  confirmed      source prefix_name  \\\n",
            "0    1004607564  ACTIVE        []      False  Site Owner               \n",
            "1    1004885325  ACTIVE        []      False  Site Owner               \n",
            "2    1009412810  ACTIVE        []      False  Site Owner               \n",
            "3    1010022709  ACTIVE        []      False  Site Owner               \n",
            "4    1043274664  ACTIVE        []      False  Site Owner               \n",
            "..          ...     ...  ..   ...        ...         ...         ...   \n",
            "203  2121874950  ACTIVE        []      False  Site Owner               \n",
            "204  2131905736  ACTIVE        []      False  Site Owner               \n",
            "205  2138790689  ACTIVE        []      False  Site Owner               \n",
            "206  2139055632  ACTIVE        []      False  Site Owner               \n",
            "207  2144108943  ACTIVE        []      False  Site Owner               \n",
            "\n",
            "    first_name middle_name    last_name  ... address.sub_postal_code  \\\n",
            "0         Gina                Marsaglia  ...                           \n",
            "1        David              Wasielewski  ...                           \n",
            "2       Leslie                   Meenan  ...                           \n",
            "3      Octavio                   Guzman  ...                           \n",
            "4        Jason                Botterill  ...                           \n",
            "..         ...         ...          ...  ...                     ...   \n",
            "203    Camille                  Chijate  ...                           \n",
            "204      Parry                     Tong  ...                           \n",
            "205  Charlotte                   Pudney  ...                           \n",
            "206    Heather                    Feher  ...                           \n",
            "207      David              Silverglide  ...                           \n",
            "\n",
            "        list.id list.status                      email_address.id  \\\n",
            "0    1106639671      ACTIVE  c3abc400-0bfd-11ee-a611-fa163e638ddc   \n",
            "1    1106639671      ACTIVE  c3b17b20-0bfd-11ee-a611-fa163e638ddc   \n",
            "2    1106639671      ACTIVE  c3b056c8-0bfd-11ee-a611-fa163e638ddc   \n",
            "3    1695630578      ACTIVE  c3acec68-0bfd-11ee-a611-fa163e638ddc   \n",
            "4    1106639671      ACTIVE  c3b12602-0bfd-11ee-a611-fa163e638ddc   \n",
            "..          ...         ...                                   ...   \n",
            "203  1106639671      ACTIVE  c3b1d124-0bfd-11ee-a611-fa163e638ddc   \n",
            "204  1106639671      ACTIVE  c3b26d6e-0bfd-11ee-a611-fa163e638ddc   \n",
            "205  1106639671      ACTIVE  c3b24b90-0bfd-11ee-a611-fa163e638ddc   \n",
            "206  1695630578      ACTIVE  c3ad784a-0bfd-11ee-a611-fa163e638ddc   \n",
            "207  1681557793      ACTIVE  c3ae397e-0bfd-11ee-a611-fa163e638ddc   \n",
            "\n",
            "    email_address.status email_address.confirm_status  \\\n",
            "0                 ACTIVE     NO_CONFIRMATION_REQUIRED   \n",
            "1                 ACTIVE     NO_CONFIRMATION_REQUIRED   \n",
            "2                 ACTIVE     NO_CONFIRMATION_REQUIRED   \n",
            "3                 ACTIVE     NO_CONFIRMATION_REQUIRED   \n",
            "4                 ACTIVE     NO_CONFIRMATION_REQUIRED   \n",
            "..                   ...                          ...   \n",
            "203               ACTIVE     NO_CONFIRMATION_REQUIRED   \n",
            "204               ACTIVE     NO_CONFIRMATION_REQUIRED   \n",
            "205               ACTIVE     NO_CONFIRMATION_REQUIRED   \n",
            "206               ACTIVE     NO_CONFIRMATION_REQUIRED   \n",
            "207               ACTIVE     NO_CONFIRMATION_REQUIRED   \n",
            "\n",
            "    email_address.opt_in_source email_address.opt_in_date  \\\n",
            "0               ACTION_BY_OWNER  2023-06-16T04:25:03.000Z   \n",
            "1               ACTION_BY_OWNER  2023-06-16T04:25:03.000Z   \n",
            "2               ACTION_BY_OWNER  2023-06-16T04:25:03.000Z   \n",
            "3               ACTION_BY_OWNER  2023-06-16T04:25:03.000Z   \n",
            "4               ACTION_BY_OWNER  2023-06-16T04:25:03.000Z   \n",
            "..                          ...                       ...   \n",
            "203             ACTION_BY_OWNER  2023-06-16T04:25:03.000Z   \n",
            "204             ACTION_BY_OWNER  2023-06-16T04:25:03.000Z   \n",
            "205             ACTION_BY_OWNER  2023-06-16T04:25:03.000Z   \n",
            "206             ACTION_BY_OWNER  2023-06-16T04:25:03.000Z   \n",
            "207             ACTION_BY_OWNER  2023-06-16T04:25:03.000Z   \n",
            "\n",
            "        email_address.email_address email_address.opt_out_date  \n",
            "0                gina@pizzaport.com                        NaN  \n",
            "1           david@dintaifungusa.com                        NaN  \n",
            "2          leslie@habanaoutpost.com                        NaN  \n",
            "3    octavio.guzman@lapencaazul.com                        NaN  \n",
            "4             jason@chezpanisse.com                        NaN  \n",
            "..                              ...                        ...  \n",
            "203             cchijate@hobees.com                        NaN  \n",
            "204           parry@postino-usa.com                        NaN  \n",
            "205  charlotte@papillonevents.co.uk                        NaN  \n",
            "206    heather@blackcatculinary.com                        NaN  \n",
            "207                  david@mixt.com                        NaN  \n",
            "\n",
            "[208 rows x 39 columns]\n",
            "There are 208 records and 39 fields.\n"
          ]
        }
      ],
      "source": [
        "# Send the HTTP request\n",
        "response = requests.get(url, headers=headers)\n",
        "\n",
        "# Load the JSON data from the response\n",
        "data = response.json()\n",
        "\n",
        "# Now, process this data similarly as before\n",
        "# Extract the 'results' list which contains the data\n",
        "data = data['results']\n",
        "\n",
        "# Normalize JSON to flat table\n",
        "df = pd.json_normalize(data)\n",
        "\n",
        "# Address, Lists, and Email_addresses contain further nested data. We'll only take the first element for simplicity.\n",
        "df['address'] = df['addresses'].apply(lambda x: x[0] if x else {})\n",
        "df['list'] = df['lists'].apply(lambda x: x[0] if x else {})\n",
        "df['email_address'] = df['email_addresses'].apply(lambda x: x[0] if x else {})\n",
        "\n",
        "# Normalize nested columns and join with original data\n",
        "df = df.join(pd.json_normalize(df['address']).add_prefix('address.')).drop(columns=['addresses', 'address'])\n",
        "df = df.join(pd.json_normalize(df['list']).add_prefix('list.')).drop(columns=['lists', 'list'])\n",
        "df = df.join(pd.json_normalize(df['email_address']).add_prefix('email_address.')).drop(columns=['email_addresses', 'email_address'])\n",
        "\n",
        "# Now, df is a DataFrame containing the data in tabular form\n",
        "print(df)\n",
        "\n",
        "num_records, num_fields = df.shape\n",
        "print(f'There are {num_records} records and {num_fields} fields.')\n",
        "\n",
        "from google.colab import files\n",
        "\n"
      ]
    },
    {
      "cell_type": "code",
      "execution_count": null,
      "metadata": {
        "colab": {
          "base_uri": "https://localhost:8080/",
          "height": 17
        },
        "id": "tLeAKq2ZI55G",
        "outputId": "16eec570-f4c2-45f0-d1a5-be121a2566bb"
      },
      "outputs": [
        {
          "data": {
            "application/javascript": "\n    async function download(id, filename, size) {\n      if (!google.colab.kernel.accessAllowed) {\n        return;\n      }\n      const div = document.createElement('div');\n      const label = document.createElement('label');\n      label.textContent = `Downloading \"${filename}\": `;\n      div.appendChild(label);\n      const progress = document.createElement('progress');\n      progress.max = size;\n      div.appendChild(progress);\n      document.body.appendChild(div);\n\n      const buffers = [];\n      let downloaded = 0;\n\n      const channel = await google.colab.kernel.comms.open(id);\n      // Send a message to notify the kernel that we're ready.\n      channel.send({})\n\n      for await (const message of channel.messages) {\n        // Send a message to notify the kernel that we're ready.\n        channel.send({})\n        if (message.buffers) {\n          for (const buffer of message.buffers) {\n            buffers.push(buffer);\n            downloaded += buffer.byteLength;\n            progress.value = downloaded;\n          }\n        }\n      }\n      const blob = new Blob(buffers, {type: 'application/binary'});\n      const a = document.createElement('a');\n      a.href = window.URL.createObjectURL(blob);\n      a.download = filename;\n      div.appendChild(a);\n      a.click();\n      div.remove();\n    }\n  ",
            "text/plain": [
              "<IPython.core.display.Javascript object>"
            ]
          },
          "metadata": {},
          "output_type": "display_data"
        },
        {
          "data": {
            "application/javascript": "download(\"download_c706a2b8-06d2-4fe6-8741-bb8d36441d88\", \"contact.csv\", 84234)",
            "text/plain": [
              "<IPython.core.display.Javascript object>"
            ]
          },
          "metadata": {},
          "output_type": "display_data"
        }
      ],
      "source": [
        "# Save DataFrame to a CSV file\n",
        "df.to_csv('contact.csv', index=False)\n",
        "\n",
        "# Download the file to your local machine\n",
        "files.download('contact.csv')"
      ]
    },
    {
      "cell_type": "code",
      "execution_count": null,
      "metadata": {
        "colab": {
          "base_uri": "https://localhost:8080/"
        },
        "id": "NWBOtWogJKTM",
        "outputId": "b4ba80fd-a1f8-4c6f-a8a5-a0396f8f1ae1"
      },
      "outputs": [
        {
          "name": "stdout",
          "output_type": "stream",
          "text": [
            "  activity_type    campaign_id  contact_id                email_address  \\\n",
            "0    EMAIL_SEND  1140300363415  1922392705     sharonv@betterchains.com   \n",
            "1    EMAIL_SEND  1140300363415  1593065246          jack@stuftpizza.com   \n",
            "2    EMAIL_SEND  1140300363415  1955551536  eddy@sandiegopubcrawler.com   \n",
            "3    EMAIL_SEND  1140300363415  1994776990      kevin@thehopgrenade.com   \n",
            "4    EMAIL_SEND  1140300363415  1109341131       jealy@emailgmg.jnj.com   \n",
            "\n",
            "                  send_date  \n",
            "0  2023-06-16T05:14:00.000Z  \n",
            "1  2023-06-16T05:14:00.000Z  \n",
            "2  2023-06-16T05:14:00.000Z  \n",
            "3  2023-06-16T05:14:00.000Z  \n",
            "4  2023-06-16T05:14:00.000Z  \n"
          ]
        }
      ],
      "source": [
        "## email compaign data (part 3)\n",
        "# Define the URL and the headers\n",
        "url = 'https://api.constantcontact.com/v2/emailmarketing/campaigns/1140300363415/tracking/sends?limit=500&api_key=xxx'\n",
        "headers = {\n",
        "    'Authorization': 'Bearer xxx'\n",
        "}\n",
        "\n",
        "# Make the GET request\n",
        "response = requests.get(url, headers=headers)\n",
        "\n",
        "# Load the response to a JSON\n",
        "data = response.json()\n",
        "\n",
        "# Extract the 'results' data to a pandas DataFrame\n",
        "df = pd.json_normalize(data['results'])\n",
        "\n",
        "# Print the DataFrame to see the result\n",
        "print(df)\n"
      ]
    },
    {
      "cell_type": "code",
      "execution_count": null,
      "metadata": {
        "colab": {
          "base_uri": "https://localhost:8080/"
        },
        "id": "0fq12Y_aJT8s",
        "outputId": "383411a4-0dd8-4d10-9123-ae476aad0955"
      },
      "outputs": [
        {
          "name": "stdout",
          "output_type": "stream",
          "text": [
            "There are 5 records.\n"
          ]
        }
      ],
      "source": [
        "# Count the records\n",
        "num_records = len(df)\n",
        "print(f'There are {num_records} records.')"
      ]
    },
    {
      "cell_type": "code",
      "execution_count": null,
      "metadata": {
        "colab": {
          "base_uri": "https://localhost:8080/",
          "height": 17
        },
        "id": "eTAg0qPtJXl0",
        "outputId": "a8576609-315c-4c9d-cecd-bb12ae8392bb"
      },
      "outputs": [
        {
          "data": {
            "application/javascript": "\n    async function download(id, filename, size) {\n      if (!google.colab.kernel.accessAllowed) {\n        return;\n      }\n      const div = document.createElement('div');\n      const label = document.createElement('label');\n      label.textContent = `Downloading \"${filename}\": `;\n      div.appendChild(label);\n      const progress = document.createElement('progress');\n      progress.max = size;\n      div.appendChild(progress);\n      document.body.appendChild(div);\n\n      const buffers = [];\n      let downloaded = 0;\n\n      const channel = await google.colab.kernel.comms.open(id);\n      // Send a message to notify the kernel that we're ready.\n      channel.send({})\n\n      for await (const message of channel.messages) {\n        // Send a message to notify the kernel that we're ready.\n        channel.send({})\n        if (message.buffers) {\n          for (const buffer of message.buffers) {\n            buffers.push(buffer);\n            downloaded += buffer.byteLength;\n            progress.value = downloaded;\n          }\n        }\n      }\n      const blob = new Blob(buffers, {type: 'application/binary'});\n      const a = document.createElement('a');\n      a.href = window.URL.createObjectURL(blob);\n      a.download = filename;\n      div.appendChild(a);\n      a.click();\n      div.remove();\n    }\n  ",
            "text/plain": [
              "<IPython.core.display.Javascript object>"
            ]
          },
          "metadata": {},
          "output_type": "display_data"
        },
        {
          "data": {
            "application/javascript": "download(\"download_78d723a2-d841-4f47-aa02-b9b4c6e61ccd\", \"send_activities.csv\", 486)",
            "text/plain": [
              "<IPython.core.display.Javascript object>"
            ]
          },
          "metadata": {},
          "output_type": "display_data"
        }
      ],
      "source": [
        "# Save DataFrame to a CSV file\n",
        "df.to_csv('send_activities.csv', index=False)\n",
        "\n",
        "# Download the file to your local machine\n",
        "files.download('send_activities.csv')"
      ]
    },
    {
      "cell_type": "markdown",
      "metadata": {
        "id": "2fTHlbXOMp0N"
      },
      "source": [
        "Add Extra Column - Dummy Column with value test"
      ]
    },
    {
      "cell_type": "code",
      "execution_count": null,
      "metadata": {
        "id": "MP1ovYfYM31b"
      },
      "outputs": [],
      "source": [
        "#Get the necessary libraries ready\n",
        "from google.colab import files\n",
        "import pandas as pd\n"
      ]
    },
    {
      "cell_type": "code",
      "execution_count": null,
      "metadata": {
        "colab": {
          "base_uri": "https://localhost:8080/",
          "height": 73
        },
        "id": "OIoiWdLTTej4",
        "outputId": "d9861cc3-cc03-4c02-91f4-51fef1d38c8f"
      },
      "outputs": [
        {
          "data": {
            "text/html": [
              "\n",
              "     <input type=\"file\" id=\"files-c23f8355-4a00-4ec9-a0e2-4e51d7764582\" name=\"files[]\" multiple disabled\n",
              "        style=\"border:none\" />\n",
              "     <output id=\"result-c23f8355-4a00-4ec9-a0e2-4e51d7764582\">\n",
              "      Upload widget is only available when the cell has been executed in the\n",
              "      current browser session. Please rerun this cell to enable.\n",
              "      </output>\n",
              "      <script>// Copyright 2017 Google LLC\n",
              "//\n",
              "// Licensed under the Apache License, Version 2.0 (the \"License\");\n",
              "// you may not use this file except in compliance with the License.\n",
              "// You may obtain a copy of the License at\n",
              "//\n",
              "//      http://www.apache.org/licenses/LICENSE-2.0\n",
              "//\n",
              "// Unless required by applicable law or agreed to in writing, software\n",
              "// distributed under the License is distributed on an \"AS IS\" BASIS,\n",
              "// WITHOUT WARRANTIES OR CONDITIONS OF ANY KIND, either express or implied.\n",
              "// See the License for the specific language governing permissions and\n",
              "// limitations under the License.\n",
              "\n",
              "/**\n",
              " * @fileoverview Helpers for google.colab Python module.\n",
              " */\n",
              "(function(scope) {\n",
              "function span(text, styleAttributes = {}) {\n",
              "  const element = document.createElement('span');\n",
              "  element.textContent = text;\n",
              "  for (const key of Object.keys(styleAttributes)) {\n",
              "    element.style[key] = styleAttributes[key];\n",
              "  }\n",
              "  return element;\n",
              "}\n",
              "\n",
              "// Max number of bytes which will be uploaded at a time.\n",
              "const MAX_PAYLOAD_SIZE = 100 * 1024;\n",
              "\n",
              "function _uploadFiles(inputId, outputId) {\n",
              "  const steps = uploadFilesStep(inputId, outputId);\n",
              "  const outputElement = document.getElementById(outputId);\n",
              "  // Cache steps on the outputElement to make it available for the next call\n",
              "  // to uploadFilesContinue from Python.\n",
              "  outputElement.steps = steps;\n",
              "\n",
              "  return _uploadFilesContinue(outputId);\n",
              "}\n",
              "\n",
              "// This is roughly an async generator (not supported in the browser yet),\n",
              "// where there are multiple asynchronous steps and the Python side is going\n",
              "// to poll for completion of each step.\n",
              "// This uses a Promise to block the python side on completion of each step,\n",
              "// then passes the result of the previous step as the input to the next step.\n",
              "function _uploadFilesContinue(outputId) {\n",
              "  const outputElement = document.getElementById(outputId);\n",
              "  const steps = outputElement.steps;\n",
              "\n",
              "  const next = steps.next(outputElement.lastPromiseValue);\n",
              "  return Promise.resolve(next.value.promise).then((value) => {\n",
              "    // Cache the last promise value to make it available to the next\n",
              "    // step of the generator.\n",
              "    outputElement.lastPromiseValue = value;\n",
              "    return next.value.response;\n",
              "  });\n",
              "}\n",
              "\n",
              "/**\n",
              " * Generator function which is called between each async step of the upload\n",
              " * process.\n",
              " * @param {string} inputId Element ID of the input file picker element.\n",
              " * @param {string} outputId Element ID of the output display.\n",
              " * @return {!Iterable<!Object>} Iterable of next steps.\n",
              " */\n",
              "function* uploadFilesStep(inputId, outputId) {\n",
              "  const inputElement = document.getElementById(inputId);\n",
              "  inputElement.disabled = false;\n",
              "\n",
              "  const outputElement = document.getElementById(outputId);\n",
              "  outputElement.innerHTML = '';\n",
              "\n",
              "  const pickedPromise = new Promise((resolve) => {\n",
              "    inputElement.addEventListener('change', (e) => {\n",
              "      resolve(e.target.files);\n",
              "    });\n",
              "  });\n",
              "\n",
              "  const cancel = document.createElement('button');\n",
              "  inputElement.parentElement.appendChild(cancel);\n",
              "  cancel.textContent = 'Cancel upload';\n",
              "  const cancelPromise = new Promise((resolve) => {\n",
              "    cancel.onclick = () => {\n",
              "      resolve(null);\n",
              "    };\n",
              "  });\n",
              "\n",
              "  // Wait for the user to pick the files.\n",
              "  const files = yield {\n",
              "    promise: Promise.race([pickedPromise, cancelPromise]),\n",
              "    response: {\n",
              "      action: 'starting',\n",
              "    }\n",
              "  };\n",
              "\n",
              "  cancel.remove();\n",
              "\n",
              "  // Disable the input element since further picks are not allowed.\n",
              "  inputElement.disabled = true;\n",
              "\n",
              "  if (!files) {\n",
              "    return {\n",
              "      response: {\n",
              "        action: 'complete',\n",
              "      }\n",
              "    };\n",
              "  }\n",
              "\n",
              "  for (const file of files) {\n",
              "    const li = document.createElement('li');\n",
              "    li.append(span(file.name, {fontWeight: 'bold'}));\n",
              "    li.append(span(\n",
              "        `(${file.type || 'n/a'}) - ${file.size} bytes, ` +\n",
              "        `last modified: ${\n",
              "            file.lastModifiedDate ? file.lastModifiedDate.toLocaleDateString() :\n",
              "                                    'n/a'} - `));\n",
              "    const percent = span('0% done');\n",
              "    li.appendChild(percent);\n",
              "\n",
              "    outputElement.appendChild(li);\n",
              "\n",
              "    const fileDataPromise = new Promise((resolve) => {\n",
              "      const reader = new FileReader();\n",
              "      reader.onload = (e) => {\n",
              "        resolve(e.target.result);\n",
              "      };\n",
              "      reader.readAsArrayBuffer(file);\n",
              "    });\n",
              "    // Wait for the data to be ready.\n",
              "    let fileData = yield {\n",
              "      promise: fileDataPromise,\n",
              "      response: {\n",
              "        action: 'continue',\n",
              "      }\n",
              "    };\n",
              "\n",
              "    // Use a chunked sending to avoid message size limits. See b/62115660.\n",
              "    let position = 0;\n",
              "    do {\n",
              "      const length = Math.min(fileData.byteLength - position, MAX_PAYLOAD_SIZE);\n",
              "      const chunk = new Uint8Array(fileData, position, length);\n",
              "      position += length;\n",
              "\n",
              "      const base64 = btoa(String.fromCharCode.apply(null, chunk));\n",
              "      yield {\n",
              "        response: {\n",
              "          action: 'append',\n",
              "          file: file.name,\n",
              "          data: base64,\n",
              "        },\n",
              "      };\n",
              "\n",
              "      let percentDone = fileData.byteLength === 0 ?\n",
              "          100 :\n",
              "          Math.round((position / fileData.byteLength) * 100);\n",
              "      percent.textContent = `${percentDone}% done`;\n",
              "\n",
              "    } while (position < fileData.byteLength);\n",
              "  }\n",
              "\n",
              "  // All done.\n",
              "  yield {\n",
              "    response: {\n",
              "      action: 'complete',\n",
              "    }\n",
              "  };\n",
              "}\n",
              "\n",
              "scope.google = scope.google || {};\n",
              "scope.google.colab = scope.google.colab || {};\n",
              "scope.google.colab._files = {\n",
              "  _uploadFiles,\n",
              "  _uploadFilesContinue,\n",
              "};\n",
              "})(self);\n",
              "</script> "
            ],
            "text/plain": [
              "<IPython.core.display.HTML object>"
            ]
          },
          "metadata": {},
          "output_type": "display_data"
        },
        {
          "name": "stdout",
          "output_type": "stream",
          "text": [
            "Saving transition_data.csv to transition_data.csv\n"
          ]
        }
      ],
      "source": [
        "##Import the CSV File into the DataFrame\n",
        "uploaded = files.upload()\n",
        "df = pd.read_csv(\"transition_data.csv\")"
      ]
    },
    {
      "cell_type": "code",
      "execution_count": null,
      "metadata": {
        "colab": {
          "base_uri": "https://localhost:8080/"
        },
        "id": "TMppc1HAU1uT",
        "outputId": "3bacd0b3-4bf4-4f56-a0fb-730c75a85b8c"
      },
      "outputs": [
        {
          "name": "stdout",
          "output_type": "stream",
          "text": [
            "     ACCOUNT_ID       ORDER_ID                           CUSTOMER_ID  \\\n",
            "0           123  1140314740354  c3abc400-0bfd-11ee-a611-fa163e638ddc   \n",
            "1           123  1140337857100  c3acec68-0bfd-11ee-a611-fa163e638ddc   \n",
            "2           123  1140327698389  c3acec68-0bfd-11ee-a611-fa163e638ddc   \n",
            "3           123  1140337857100  c3ad3d26-0bfd-11ee-a611-fa163e638ddc   \n",
            "4           123  1140327698389  c3ad3d26-0bfd-11ee-a611-fa163e638ddc   \n",
            "..          ...            ...                                   ...   \n",
            "125         123  1140314740354  c3ac4ccc-0bfd-11ee-a611-fa163e638ddc   \n",
            "126         123  1140314740354  c3ac4ccc-0bfd-11ee-a611-fa163e638ddc   \n",
            "127         123  1140314740354  c3ac6194-0bfd-11ee-a611-fa163e638ddc   \n",
            "128         123  1140337857100  c3ad784a-0bfd-11ee-a611-fa163e638ddc   \n",
            "129         123  1140327698389  c3ad784a-0bfd-11ee-a611-fa163e638ddc   \n",
            "\n",
            "     ORDER_STATUS  ORDER_PURCHASE_TIMESTAMP  ORDER_APPROVED_AT  \\\n",
            "0      EMAIL_SEND  2023-06-21T04:50:00.000Z                NaN   \n",
            "1      EMAIL_SEND  2023-06-27T19:31:00.000Z                NaN   \n",
            "2      EMAIL_SEND  2023-06-24T20:43:00.000Z                NaN   \n",
            "3      EMAIL_OPEN  2023-06-28T05:46:00.000Z                NaN   \n",
            "4      EMAIL_OPEN  2023-06-26T14:28:00.000Z                NaN   \n",
            "..            ...                       ...                ...   \n",
            "125    EMAIL_SEND  2023-06-21T04:50:00.000Z                NaN   \n",
            "126  EMAIL_BOUNCE  2023-06-21T04:50:00.000Z                NaN   \n",
            "127    EMAIL_SEND  2023-06-21T04:50:00.000Z                NaN   \n",
            "128    EMAIL_SEND  2023-06-27T19:31:00.000Z                NaN   \n",
            "129    EMAIL_SEND  2023-06-24T20:43:00.000Z                NaN   \n",
            "\n",
            "     ORDER_DELIVERED_CARRIER_DATE  ORDER_DELIVERED_CUSTOMER_DATE  \\\n",
            "0                             NaN                            NaN   \n",
            "1                             NaN                            NaN   \n",
            "2                             NaN                            NaN   \n",
            "3                             NaN                            NaN   \n",
            "4                             NaN                            NaN   \n",
            "..                            ...                            ...   \n",
            "125                           NaN                            NaN   \n",
            "126                           NaN                            NaN   \n",
            "127                           NaN                            NaN   \n",
            "128                           NaN                            NaN   \n",
            "129                           NaN                            NaN   \n",
            "\n",
            "     ORDER_ESTIMATED_DELIVERY_DATE  \n",
            "0                              NaN  \n",
            "1                              NaN  \n",
            "2                              NaN  \n",
            "3                              NaN  \n",
            "4                              NaN  \n",
            "..                             ...  \n",
            "125                            NaN  \n",
            "126                            NaN  \n",
            "127                            NaN  \n",
            "128                            NaN  \n",
            "129                            NaN  \n",
            "\n",
            "[130 rows x 9 columns]\n"
          ]
        }
      ],
      "source": [
        "#Finding the null\n",
        "print(df[df.isnull().T.any()])\n",
        "\n",
        "##Replacement of null values\n",
        "df = df.astype(object).where(pd.notnull(df), None) # Replacement of null values\n"
      ]
    },
    {
      "cell_type": "code",
      "execution_count": null,
      "metadata": {
        "id": "ZqTlanN9UXfC"
      },
      "outputs": [],
      "source": [
        "# Adding a dummy column named 'DummyColumn' with value 'test '\n",
        "df['DummyColumn'] = 'test '"
      ]
    },
    {
      "cell_type": "code",
      "execution_count": null,
      "metadata": {
        "colab": {
          "base_uri": "https://localhost:8080/"
        },
        "id": "SMZ2YZLwUnTx",
        "outputId": "01f3376f-de2c-4d0c-82df-6fcc77d1b742"
      },
      "outputs": [
        {
          "name": "stdout",
          "output_type": "stream",
          "text": [
            "    ACCOUNT_ID       ORDER_ID                           CUSTOMER_ID  \\\n",
            "0          123  1140314740354  c3abc400-0bfd-11ee-a611-fa163e638ddc   \n",
            "1          123  1140337857100  c3acec68-0bfd-11ee-a611-fa163e638ddc   \n",
            "2          123  1140327698389  c3acec68-0bfd-11ee-a611-fa163e638ddc   \n",
            "3          123  1140337857100  c3ad3d26-0bfd-11ee-a611-fa163e638ddc   \n",
            "4          123  1140327698389  c3ad3d26-0bfd-11ee-a611-fa163e638ddc   \n",
            "..         ...            ...                                   ...   \n",
            "125        123  1140314740354  c3ac4ccc-0bfd-11ee-a611-fa163e638ddc   \n",
            "126        123  1140314740354  c3ac4ccc-0bfd-11ee-a611-fa163e638ddc   \n",
            "127        123  1140314740354  c3ac6194-0bfd-11ee-a611-fa163e638ddc   \n",
            "128        123  1140337857100  c3ad784a-0bfd-11ee-a611-fa163e638ddc   \n",
            "129        123  1140327698389  c3ad784a-0bfd-11ee-a611-fa163e638ddc   \n",
            "\n",
            "     ORDER_STATUS  ORDER_PURCHASE_TIMESTAMP ORDER_APPROVED_AT  \\\n",
            "0      EMAIL_SEND  2023-06-21T04:50:00.000Z              None   \n",
            "1      EMAIL_SEND  2023-06-27T19:31:00.000Z              None   \n",
            "2      EMAIL_SEND  2023-06-24T20:43:00.000Z              None   \n",
            "3      EMAIL_OPEN  2023-06-28T05:46:00.000Z              None   \n",
            "4      EMAIL_OPEN  2023-06-26T14:28:00.000Z              None   \n",
            "..            ...                       ...               ...   \n",
            "125    EMAIL_SEND  2023-06-21T04:50:00.000Z              None   \n",
            "126  EMAIL_BOUNCE  2023-06-21T04:50:00.000Z              None   \n",
            "127    EMAIL_SEND  2023-06-21T04:50:00.000Z              None   \n",
            "128    EMAIL_SEND  2023-06-27T19:31:00.000Z              None   \n",
            "129    EMAIL_SEND  2023-06-24T20:43:00.000Z              None   \n",
            "\n",
            "    ORDER_DELIVERED_CARRIER_DATE ORDER_DELIVERED_CUSTOMER_DATE  \\\n",
            "0                           None                          None   \n",
            "1                           None                          None   \n",
            "2                           None                          None   \n",
            "3                           None                          None   \n",
            "4                           None                          None   \n",
            "..                           ...                           ...   \n",
            "125                         None                          None   \n",
            "126                         None                          None   \n",
            "127                         None                          None   \n",
            "128                         None                          None   \n",
            "129                         None                          None   \n",
            "\n",
            "    ORDER_ESTIMATED_DELIVERY_DATE DUMMY_DATA  \n",
            "0                            None      test   \n",
            "1                            None      test   \n",
            "2                            None      test   \n",
            "3                            None      test   \n",
            "4                            None      test   \n",
            "..                            ...        ...  \n",
            "125                          None      test   \n",
            "126                          None      test   \n",
            "127                          None      test   \n",
            "128                          None      test   \n",
            "129                          None      test   \n",
            "\n",
            "[130 rows x 10 columns]\n"
          ]
        }
      ],
      "source": [
        "# Renaming the dummy column\n",
        "df = df.rename(columns={'DummyColumn': 'DUMMY_DATA'})\n",
        "print(df)"
      ]
    },
    {
      "cell_type": "code",
      "execution_count": null,
      "metadata": {
        "id": "th9yEj8_rMFU"
      },
      "outputs": [],
      "source": [
        "from pickle import FALSE\n",
        "df.to_csv('transition_data(3)', index=FALSE)"
      ]
    },
    {
      "cell_type": "markdown",
      "metadata": {
        "id": "d4Bx3UumVxbp"
      },
      "source": [
        " Load tmp2_rfm_order_data oracle"
      ]
    },
    {
      "cell_type": "code",
      "execution_count": null,
      "metadata": {
        "colab": {
          "base_uri": "https://localhost:8080/"
        },
        "id": "9adsWV_Bnsv-",
        "outputId": "65192cc9-507b-4517-9042-a0348cd93b10"
      },
      "outputs": [
        {
          "name": "stdout",
          "output_type": "stream",
          "text": [
            "ls: cannot access 'oracle-instantclient*-basiclite-*.rpm': No such file or directory\n",
            "--2023-12-18 17:37:16--  https://yum.oracle.com/repo/OracleLinux/OL7/oracle/instantclient/x86_64/getPackage/oracle-instantclient19.3-basiclite-19.3.0.0.0-1.x86_64.rpm\n",
            "Resolving yum.oracle.com (yum.oracle.com)... 23.209.109.72, 2600:1417:76:586::2a7d, 2600:1417:76:583::2a7d\n",
            "Connecting to yum.oracle.com (yum.oracle.com)|23.209.109.72|:443... connected.\n",
            "HTTP request sent, awaiting response... 200 OK\n",
            "Length: 28553496 (27M) [application/x-rpm]\n",
            "Saving to: ‘oracle-instantclient19.3-basiclite-19.3.0.0.0-1.x86_64.rpm’\n",
            "\n",
            "oracle-instantclien 100%[===================>]  27.23M  --.-KB/s    in 0.1s    \n",
            "\n",
            "2023-12-18 17:37:17 (229 MB/s) - ‘oracle-instantclient19.3-basiclite-19.3.0.0.0-1.x86_64.rpm’ saved [28553496/28553496]\n",
            "\n",
            "ls: cannot access 'oracle-instantclient*-sqlplus-*.rpm': No such file or directory\n",
            "--2023-12-18 17:37:17--  https://yum.oracle.com/repo/OracleLinux/OL7/oracle/instantclient/x86_64/getPackage/oracle-instantclient19.3-sqlplus-19.3.0.0.0-1.x86_64.rpm\n",
            "Resolving yum.oracle.com (yum.oracle.com)... 23.209.109.72, 2600:1417:76:586::2a7d, 2600:1417:76:583::2a7d\n",
            "Connecting to yum.oracle.com (yum.oracle.com)|23.209.109.72|:443... connected.\n",
            "HTTP request sent, awaiting response... 200 OK\n",
            "Length: 702792 (686K) [application/x-rpm]\n",
            "Saving to: ‘oracle-instantclient19.3-sqlplus-19.3.0.0.0-1.x86_64.rpm’\n",
            "\n",
            "oracle-instantclien 100%[===================>] 686.32K  --.-KB/s    in 0.02s   \n",
            "\n",
            "2023-12-18 17:37:17 (38.8 MB/s) - ‘oracle-instantclient19.3-sqlplus-19.3.0.0.0-1.x86_64.rpm’ saved [702792/702792]\n",
            "\n"
          ]
        }
      ],
      "source": [
        "! ls -l oracle-instantclient*-basiclite-*.rpm || wget https://yum.oracle.com/repo/OracleLinux/OL7/oracle/instantclient/x86_64/getPackage/oracle-instantclient19.3-basiclite-19.3.0.0.0-1.x86_64.rpm\n",
        "! ls -l oracle-instantclient*-sqlplus-*.rpm   || wget https://yum.oracle.com/repo/OracleLinux/OL7/oracle/instantclient/x86_64/getPackage/oracle-instantclient19.3-sqlplus-19.3.0.0.0-1.x86_64.rpm"
      ]
    },
    {
      "cell_type": "code",
      "execution_count": null,
      "metadata": {
        "colab": {
          "base_uri": "https://localhost:8080/"
        },
        "id": "h_Fg_yaFYcLY",
        "outputId": "3ad0a671-4aab-44b3-bae1-0fc1b65ab967"
      },
      "outputs": [
        {
          "name": "stdout",
          "output_type": "stream",
          "text": [
            "Collecting cx_Oracle\n",
            "  Downloading cx_Oracle-8.3.0-cp310-cp310-manylinux_2_5_x86_64.manylinux1_x86_64.manylinux_2_12_x86_64.manylinux2010_x86_64.whl (892 kB)\n",
            "\u001b[2K     \u001b[90m━━━━━━━━━━━━━━━━━━━━━━━━━━━━━━━━━━━━━━━━\u001b[0m \u001b[32m892.6/892.6 kB\u001b[0m \u001b[31m6.3 MB/s\u001b[0m eta \u001b[36m0:00:00\u001b[0m\n",
            "\u001b[?25hInstalling collected packages: cx_Oracle\n",
            "Successfully installed cx_Oracle-8.3.0\n"
          ]
        }
      ],
      "source": [
        "# Connect OracleDB\n",
        "!pip install cx_Oracle"
      ]
    },
    {
      "cell_type": "code",
      "execution_count": null,
      "metadata": {
        "colab": {
          "base_uri": "https://localhost:8080/"
        },
        "id": "8bxywhkxn9Qg",
        "outputId": "5eff7ba7-a229-487e-99b8-65f5e32d5cd1"
      },
      "outputs": [
        {
          "name": "stdout",
          "output_type": "stream",
          "text": [
            "Reading package lists... Done\n",
            "Building dependency tree... Done\n",
            "Reading state information... Done\n",
            "libaio1 is already the newest version (0.3.112-13build1).\n",
            "libaio1 set to manually installed.\n",
            "The following additional packages will be installed:\n",
            "  autopoint cpio debhelper debugedit dh-autoreconf dh-strip-nondeterminism dwz\n",
            "  gettext gettext-base intltool-debian libarchive-cpio-perl\n",
            "  libarchive-zip-perl libdebhelper-perl libfile-stripnondeterminism-perl\n",
            "  libfsverity0 liblua5.3-0 libmail-sendmail-perl librpm9 librpmbuild9\n",
            "  librpmio9 librpmsign9 libsub-override-perl libsys-hostname-long-perl libtool\n",
            "  po-debconf rpm rpm-common rpm2cpio\n",
            "Suggested packages:\n",
            "  lintian libarchive1 dh-make gettext-doc libasprintf-dev libgettextpo-dev\n",
            "  libtool-doc gcj-jdk libmail-box-perl elfutils rpmlint rpm-i18n\n",
            "The following NEW packages will be installed:\n",
            "  alien autopoint cpio debhelper debugedit dh-autoreconf\n",
            "  dh-strip-nondeterminism dwz gettext gettext-base intltool-debian\n",
            "  libarchive-cpio-perl libarchive-zip-perl libdebhelper-perl\n",
            "  libfile-stripnondeterminism-perl libfsverity0 liblua5.3-0\n",
            "  libmail-sendmail-perl librpm9 librpmbuild9 librpmio9 librpmsign9\n",
            "  libsub-override-perl libsys-hostname-long-perl libtool po-debconf rpm\n",
            "  rpm-common rpm2cpio\n",
            "0 upgraded, 29 newly installed, 0 to remove and 24 not upgraded.\n",
            "Need to get 3,928 kB of archives.\n",
            "After this operation, 11.5 MB of additional disk space will be used.\n",
            "Get:1 http://archive.ubuntu.com/ubuntu jammy/main amd64 cpio amd64 2.13+dfsg-7 [83.2 kB]\n",
            "Get:2 http://archive.ubuntu.com/ubuntu jammy/main amd64 gettext-base amd64 0.21-4ubuntu4 [37.8 kB]\n",
            "Get:3 http://archive.ubuntu.com/ubuntu jammy/main amd64 autopoint all 0.21-4ubuntu4 [422 kB]\n",
            "Get:4 http://archive.ubuntu.com/ubuntu jammy/main amd64 libdebhelper-perl all 13.6ubuntu1 [67.2 kB]\n",
            "Get:5 http://archive.ubuntu.com/ubuntu jammy/main amd64 libtool all 2.4.6-15build2 [164 kB]\n",
            "Get:6 http://archive.ubuntu.com/ubuntu jammy/main amd64 dh-autoreconf all 20 [16.1 kB]\n",
            "Get:7 http://archive.ubuntu.com/ubuntu jammy/main amd64 libarchive-zip-perl all 1.68-1 [90.2 kB]\n",
            "Get:8 http://archive.ubuntu.com/ubuntu jammy/main amd64 libsub-override-perl all 0.09-2 [9,532 B]\n",
            "Get:9 http://archive.ubuntu.com/ubuntu jammy/main amd64 libfile-stripnondeterminism-perl all 1.13.0-1 [18.1 kB]\n",
            "Get:10 http://archive.ubuntu.com/ubuntu jammy/main amd64 dh-strip-nondeterminism all 1.13.0-1 [5,344 B]\n",
            "Get:11 http://archive.ubuntu.com/ubuntu jammy/main amd64 debugedit amd64 1:5.0-4build1 [47.2 kB]\n",
            "Get:12 http://archive.ubuntu.com/ubuntu jammy/main amd64 dwz amd64 0.14-1build2 [105 kB]\n",
            "Get:13 http://archive.ubuntu.com/ubuntu jammy/main amd64 gettext amd64 0.21-4ubuntu4 [868 kB]\n",
            "Get:14 http://archive.ubuntu.com/ubuntu jammy/main amd64 intltool-debian all 0.35.0+20060710.5 [24.9 kB]\n",
            "Get:15 http://archive.ubuntu.com/ubuntu jammy/main amd64 po-debconf all 1.0.21+nmu1 [233 kB]\n",
            "Get:16 http://archive.ubuntu.com/ubuntu jammy/main amd64 debhelper all 13.6ubuntu1 [923 kB]\n",
            "Get:17 http://archive.ubuntu.com/ubuntu jammy/main amd64 liblua5.3-0 amd64 5.3.6-1build1 [140 kB]\n",
            "Get:18 http://archive.ubuntu.com/ubuntu jammy/universe amd64 librpmio9 amd64 4.17.0+dfsg1-4build1 [93.2 kB]\n",
            "Get:19 http://archive.ubuntu.com/ubuntu jammy/universe amd64 librpm9 amd64 4.17.0+dfsg1-4build1 [189 kB]\n",
            "Get:20 http://archive.ubuntu.com/ubuntu jammy/universe amd64 librpmbuild9 amd64 4.17.0+dfsg1-4build1 [80.3 kB]\n",
            "Get:21 http://archive.ubuntu.com/ubuntu jammy/universe amd64 libfsverity0 amd64 1.4-1~exp1build1 [10.4 kB]\n",
            "Get:22 http://archive.ubuntu.com/ubuntu jammy/universe amd64 librpmsign9 amd64 4.17.0+dfsg1-4build1 [11.7 kB]\n",
            "Get:23 http://archive.ubuntu.com/ubuntu jammy/universe amd64 rpm-common amd64 4.17.0+dfsg1-4build1 [33.7 kB]\n",
            "Get:24 http://archive.ubuntu.com/ubuntu jammy/universe amd64 rpm2cpio amd64 4.17.0+dfsg1-4build1 [9,882 B]\n",
            "Get:25 http://archive.ubuntu.com/ubuntu jammy/universe amd64 rpm amd64 4.17.0+dfsg1-4build1 [151 kB]\n",
            "Get:26 http://archive.ubuntu.com/ubuntu jammy/universe amd64 alien all 8.95.5 [50.9 kB]\n",
            "Get:27 http://archive.ubuntu.com/ubuntu jammy/main amd64 libarchive-cpio-perl all 0.10-1.1 [9,928 B]\n",
            "Get:28 http://archive.ubuntu.com/ubuntu jammy/main amd64 libsys-hostname-long-perl all 1.5-2 [11.5 kB]\n",
            "Get:29 http://archive.ubuntu.com/ubuntu jammy/main amd64 libmail-sendmail-perl all 0.80-1.1 [22.7 kB]\n",
            "Fetched 3,928 kB in 6s (646 kB/s)\n",
            "debconf: unable to initialize frontend: Dialog\n",
            "debconf: (No usable dialog-like program is installed, so the dialog based frontend cannot be used. at /usr/share/perl5/Debconf/FrontEnd/Dialog.pm line 78, <> line 29.)\n",
            "debconf: falling back to frontend: Readline\n",
            "debconf: unable to initialize frontend: Readline\n",
            "debconf: (This frontend requires a controlling tty.)\n",
            "debconf: falling back to frontend: Teletype\n",
            "dpkg-preconfigure: unable to re-open stdin: \n",
            "Selecting previously unselected package cpio.\n",
            "(Reading database ... 121666 files and directories currently installed.)\n",
            "Preparing to unpack .../00-cpio_2.13+dfsg-7_amd64.deb ...\n",
            "Unpacking cpio (2.13+dfsg-7) ...\n",
            "Selecting previously unselected package gettext-base.\n",
            "Preparing to unpack .../01-gettext-base_0.21-4ubuntu4_amd64.deb ...\n",
            "Unpacking gettext-base (0.21-4ubuntu4) ...\n",
            "Selecting previously unselected package autopoint.\n",
            "Preparing to unpack .../02-autopoint_0.21-4ubuntu4_all.deb ...\n",
            "Unpacking autopoint (0.21-4ubuntu4) ...\n",
            "Selecting previously unselected package libdebhelper-perl.\n",
            "Preparing to unpack .../03-libdebhelper-perl_13.6ubuntu1_all.deb ...\n",
            "Unpacking libdebhelper-perl (13.6ubuntu1) ...\n",
            "Selecting previously unselected package libtool.\n",
            "Preparing to unpack .../04-libtool_2.4.6-15build2_all.deb ...\n",
            "Unpacking libtool (2.4.6-15build2) ...\n",
            "Selecting previously unselected package dh-autoreconf.\n",
            "Preparing to unpack .../05-dh-autoreconf_20_all.deb ...\n",
            "Unpacking dh-autoreconf (20) ...\n",
            "Selecting previously unselected package libarchive-zip-perl.\n",
            "Preparing to unpack .../06-libarchive-zip-perl_1.68-1_all.deb ...\n",
            "Unpacking libarchive-zip-perl (1.68-1) ...\n",
            "Selecting previously unselected package libsub-override-perl.\n",
            "Preparing to unpack .../07-libsub-override-perl_0.09-2_all.deb ...\n",
            "Unpacking libsub-override-perl (0.09-2) ...\n",
            "Selecting previously unselected package libfile-stripnondeterminism-perl.\n",
            "Preparing to unpack .../08-libfile-stripnondeterminism-perl_1.13.0-1_all.deb ...\n",
            "Unpacking libfile-stripnondeterminism-perl (1.13.0-1) ...\n",
            "Selecting previously unselected package dh-strip-nondeterminism.\n",
            "Preparing to unpack .../09-dh-strip-nondeterminism_1.13.0-1_all.deb ...\n",
            "Unpacking dh-strip-nondeterminism (1.13.0-1) ...\n",
            "Selecting previously unselected package debugedit.\n",
            "Preparing to unpack .../10-debugedit_1%3a5.0-4build1_amd64.deb ...\n",
            "Unpacking debugedit (1:5.0-4build1) ...\n",
            "Selecting previously unselected package dwz.\n",
            "Preparing to unpack .../11-dwz_0.14-1build2_amd64.deb ...\n",
            "Unpacking dwz (0.14-1build2) ...\n",
            "Selecting previously unselected package gettext.\n",
            "Preparing to unpack .../12-gettext_0.21-4ubuntu4_amd64.deb ...\n",
            "Unpacking gettext (0.21-4ubuntu4) ...\n",
            "Selecting previously unselected package intltool-debian.\n",
            "Preparing to unpack .../13-intltool-debian_0.35.0+20060710.5_all.deb ...\n",
            "Unpacking intltool-debian (0.35.0+20060710.5) ...\n",
            "Selecting previously unselected package po-debconf.\n",
            "Preparing to unpack .../14-po-debconf_1.0.21+nmu1_all.deb ...\n",
            "Unpacking po-debconf (1.0.21+nmu1) ...\n",
            "Selecting previously unselected package debhelper.\n",
            "Preparing to unpack .../15-debhelper_13.6ubuntu1_all.deb ...\n",
            "Unpacking debhelper (13.6ubuntu1) ...\n",
            "Selecting previously unselected package liblua5.3-0:amd64.\n",
            "Preparing to unpack .../16-liblua5.3-0_5.3.6-1build1_amd64.deb ...\n",
            "Unpacking liblua5.3-0:amd64 (5.3.6-1build1) ...\n",
            "Selecting previously unselected package librpmio9.\n",
            "Preparing to unpack .../17-librpmio9_4.17.0+dfsg1-4build1_amd64.deb ...\n",
            "Unpacking librpmio9 (4.17.0+dfsg1-4build1) ...\n",
            "Selecting previously unselected package librpm9.\n",
            "Preparing to unpack .../18-librpm9_4.17.0+dfsg1-4build1_amd64.deb ...\n",
            "Unpacking librpm9 (4.17.0+dfsg1-4build1) ...\n",
            "Selecting previously unselected package librpmbuild9.\n",
            "Preparing to unpack .../19-librpmbuild9_4.17.0+dfsg1-4build1_amd64.deb ...\n",
            "Unpacking librpmbuild9 (4.17.0+dfsg1-4build1) ...\n",
            "Selecting previously unselected package libfsverity0:amd64.\n",
            "Preparing to unpack .../20-libfsverity0_1.4-1~exp1build1_amd64.deb ...\n",
            "Unpacking libfsverity0:amd64 (1.4-1~exp1build1) ...\n",
            "Selecting previously unselected package librpmsign9.\n",
            "Preparing to unpack .../21-librpmsign9_4.17.0+dfsg1-4build1_amd64.deb ...\n",
            "Unpacking librpmsign9 (4.17.0+dfsg1-4build1) ...\n",
            "Selecting previously unselected package rpm-common.\n",
            "Preparing to unpack .../22-rpm-common_4.17.0+dfsg1-4build1_amd64.deb ...\n",
            "Unpacking rpm-common (4.17.0+dfsg1-4build1) ...\n",
            "Selecting previously unselected package rpm2cpio.\n",
            "Preparing to unpack .../23-rpm2cpio_4.17.0+dfsg1-4build1_amd64.deb ...\n",
            "Unpacking rpm2cpio (4.17.0+dfsg1-4build1) ...\n",
            "Selecting previously unselected package rpm.\n",
            "Preparing to unpack .../24-rpm_4.17.0+dfsg1-4build1_amd64.deb ...\n",
            "Unpacking rpm (4.17.0+dfsg1-4build1) ...\n",
            "Selecting previously unselected package alien.\n",
            "Preparing to unpack .../25-alien_8.95.5_all.deb ...\n",
            "Unpacking alien (8.95.5) ...\n",
            "Selecting previously unselected package libarchive-cpio-perl.\n",
            "Preparing to unpack .../26-libarchive-cpio-perl_0.10-1.1_all.deb ...\n",
            "Unpacking libarchive-cpio-perl (0.10-1.1) ...\n",
            "Selecting previously unselected package libsys-hostname-long-perl.\n",
            "Preparing to unpack .../27-libsys-hostname-long-perl_1.5-2_all.deb ...\n",
            "Unpacking libsys-hostname-long-perl (1.5-2) ...\n",
            "Selecting previously unselected package libmail-sendmail-perl.\n",
            "Preparing to unpack .../28-libmail-sendmail-perl_0.80-1.1_all.deb ...\n",
            "Unpacking libmail-sendmail-perl (0.80-1.1) ...\n",
            "Setting up cpio (2.13+dfsg-7) ...\n",
            "update-alternatives: using /bin/mt-gnu to provide /bin/mt (mt) in auto mode\n",
            "Setting up libtool (2.4.6-15build2) ...\n",
            "Setting up libarchive-zip-perl (1.68-1) ...\n",
            "Setting up libdebhelper-perl (13.6ubuntu1) ...\n",
            "Setting up gettext-base (0.21-4ubuntu4) ...\n",
            "Setting up libfsverity0:amd64 (1.4-1~exp1build1) ...\n",
            "Setting up autopoint (0.21-4ubuntu4) ...\n",
            "Setting up dwz (0.14-1build2) ...\n",
            "Setting up libarchive-cpio-perl (0.10-1.1) ...\n",
            "Setting up liblua5.3-0:amd64 (5.3.6-1build1) ...\n",
            "Setting up debugedit (1:5.0-4build1) ...\n",
            "Setting up libsub-override-perl (0.09-2) ...\n",
            "Setting up libsys-hostname-long-perl (1.5-2) ...\n",
            "Setting up librpmio9 (4.17.0+dfsg1-4build1) ...\n",
            "Setting up libfile-stripnondeterminism-perl (1.13.0-1) ...\n",
            "Setting up librpm9 (4.17.0+dfsg1-4build1) ...\n",
            "Setting up gettext (0.21-4ubuntu4) ...\n",
            "Setting up rpm-common (4.17.0+dfsg1-4build1) ...\n",
            "Setting up intltool-debian (0.35.0+20060710.5) ...\n",
            "Setting up dh-autoreconf (20) ...\n",
            "Setting up libmail-sendmail-perl (0.80-1.1) ...\n",
            "Setting up librpmbuild9 (4.17.0+dfsg1-4build1) ...\n",
            "Setting up dh-strip-nondeterminism (1.13.0-1) ...\n",
            "Setting up librpmsign9 (4.17.0+dfsg1-4build1) ...\n",
            "Setting up rpm2cpio (4.17.0+dfsg1-4build1) ...\n",
            "Setting up po-debconf (1.0.21+nmu1) ...\n",
            "Setting up rpm (4.17.0+dfsg1-4build1) ...\n",
            "Setting up debhelper (13.6ubuntu1) ...\n",
            "Setting up alien (8.95.5) ...\n",
            "Processing triggers for libc-bin (2.35-0ubuntu3.4) ...\n",
            "/sbin/ldconfig.real: /usr/local/lib/libtbb.so.12 is not a symbolic link\n",
            "\n",
            "/sbin/ldconfig.real: /usr/local/lib/libtbbbind_2_0.so.3 is not a symbolic link\n",
            "\n",
            "/sbin/ldconfig.real: /usr/local/lib/libtbbmalloc.so.2 is not a symbolic link\n",
            "\n",
            "/sbin/ldconfig.real: /usr/local/lib/libtbbbind.so.3 is not a symbolic link\n",
            "\n",
            "/sbin/ldconfig.real: /usr/local/lib/libtbbmalloc_proxy.so.2 is not a symbolic link\n",
            "\n",
            "/sbin/ldconfig.real: /usr/local/lib/libtbbbind_2_5.so.3 is not a symbolic link\n",
            "\n",
            "Processing triggers for man-db (2.10.2-1) ...\n",
            "Processing triggers for dbus (1.12.20-2ubuntu4.1) ...\n"
          ]
        }
      ],
      "source": [
        "! sudo apt-get install alien libaio1"
      ]
    },
    {
      "cell_type": "code",
      "execution_count": null,
      "metadata": {
        "colab": {
          "base_uri": "https://localhost:8080/"
        },
        "id": "M56Da9Nhoyh9",
        "outputId": "c40b0575-994c-45d2-a684-755b9c55b502"
      },
      "outputs": [
        {
          "name": "stdout",
          "output_type": "stream",
          "text": [
            "warning: oracle-instantclient19.3-basiclite-19.3.0.0.0-1.x86_64.rpm: Header V3 RSA/SHA256 Signature, key ID ec551f03: NOKEY\n",
            "warning: oracle-instantclient19.3-basiclite-19.3.0.0.0-1.x86_64.rpm: Header V3 RSA/SHA256 Signature, key ID ec551f03: NOKEY\n",
            "warning: oracle-instantclient19.3-basiclite-19.3.0.0.0-1.x86_64.rpm: Header V3 RSA/SHA256 Signature, key ID ec551f03: NOKEY\n",
            "warning: oracle-instantclient19.3-basiclite-19.3.0.0.0-1.x86_64.rpm: Header V3 RSA/SHA256 Signature, key ID ec551f03: NOKEY\n",
            "warning: oracle-instantclient19.3-basiclite-19.3.0.0.0-1.x86_64.rpm: Header V3 RSA/SHA256 Signature, key ID ec551f03: NOKEY\n",
            "warning: oracle-instantclient19.3-basiclite-19.3.0.0.0-1.x86_64.rpm: Header V3 RSA/SHA256 Signature, key ID ec551f03: NOKEY\n",
            "warning: oracle-instantclient19.3-basiclite-19.3.0.0.0-1.x86_64.rpm: Header V3 RSA/SHA256 Signature, key ID ec551f03: NOKEY\n",
            "warning: oracle-instantclient19.3-basiclite-19.3.0.0.0-1.x86_64.rpm: Header V3 RSA/SHA256 Signature, key ID ec551f03: NOKEY\n",
            "warning: oracle-instantclient19.3-basiclite-19.3.0.0.0-1.x86_64.rpm: Header V3 RSA/SHA256 Signature, key ID ec551f03: NOKEY\n",
            "warning: oracle-instantclient19.3-basiclite-19.3.0.0.0-1.x86_64.rpm: Header V3 RSA/SHA256 Signature, key ID ec551f03: NOKEY\n",
            "warning: oracle-instantclient19.3-basiclite-19.3.0.0.0-1.x86_64.rpm: Header V3 RSA/SHA256 Signature, key ID ec551f03: NOKEY\n",
            "warning: oracle-instantclient19.3-basiclite-19.3.0.0.0-1.x86_64.rpm: Header V3 RSA/SHA256 Signature, key ID ec551f03: NOKEY\n",
            "warning: oracle-instantclient19.3-basiclite-19.3.0.0.0-1.x86_64.rpm: Header V3 RSA/SHA256 Signature, key ID ec551f03: NOKEY\n",
            "warning: oracle-instantclient19.3-basiclite-19.3.0.0.0-1.x86_64.rpm: Header V3 RSA/SHA256 Signature, key ID ec551f03: NOKEY\n",
            "warning: oracle-instantclient19.3-basiclite-19.3.0.0.0-1.x86_64.rpm: Header V3 RSA/SHA256 Signature, key ID ec551f03: NOKEY\n",
            "warning: oracle-instantclient19.3-basiclite-19.3.0.0.0-1.x86_64.rpm: Header V3 RSA/SHA256 Signature, key ID ec551f03: NOKEY\n",
            "Warning: Skipping conversion of scripts in package oracle-instantclient19.3-basiclite: postinst postrm\n",
            "Warning: Use the --scripts parameter to include the scripts.\n",
            "warning: oracle-instantclient19.3-basiclite-19.3.0.0.0-1.x86_64.rpm: Header V3 RSA/SHA256 Signature, key ID ec551f03: NOKEY\n",
            "\tdpkg --no-force-overwrite -i oracle-instantclient19.3-basiclite_19.3.0.0.0-2_amd64.deb\n",
            "Selecting previously unselected package oracle-instantclient19.3-basiclite.\n",
            "(Reading database ... 122865 files and directories currently installed.)\n",
            "Preparing to unpack oracle-instantclient19.3-basiclite_19.3.0.0.0-2_amd64.deb ...\n",
            "Unpacking oracle-instantclient19.3-basiclite (19.3.0.0.0-2) ...\n",
            "Setting up oracle-instantclient19.3-basiclite (19.3.0.0.0-2) ...\n",
            "Processing triggers for libc-bin (2.35-0ubuntu3.4) ...\n",
            "/sbin/ldconfig.real: /usr/local/lib/libtbb.so.12 is not a symbolic link\n",
            "\n",
            "/sbin/ldconfig.real: /usr/local/lib/libtbbbind_2_0.so.3 is not a symbolic link\n",
            "\n",
            "/sbin/ldconfig.real: /usr/local/lib/libtbbmalloc.so.2 is not a symbolic link\n",
            "\n",
            "/sbin/ldconfig.real: /usr/local/lib/libtbbbind.so.3 is not a symbolic link\n",
            "\n",
            "/sbin/ldconfig.real: /usr/local/lib/libtbbmalloc_proxy.so.2 is not a symbolic link\n",
            "\n",
            "/sbin/ldconfig.real: /usr/local/lib/libtbbbind_2_5.so.3 is not a symbolic link\n",
            "\n"
          ]
        }
      ],
      "source": [
        "! sudo alien -i oracle-instantclient19.3-basiclite-19.3.0.0.0-1.x86_64.rpm"
      ]
    },
    {
      "cell_type": "code",
      "execution_count": null,
      "metadata": {
        "colab": {
          "base_uri": "https://localhost:8080/"
        },
        "id": "0Awjh5-Norbu",
        "outputId": "b3cecdae-b10f-4d47-b9ab-8cd9c61803b9"
      },
      "outputs": [
        {
          "name": "stdout",
          "output_type": "stream",
          "text": [
            "warning: oracle-instantclient19.3-sqlplus-19.3.0.0.0-1.x86_64.rpm: Header V3 RSA/SHA256 Signature, key ID ec551f03: NOKEY\n",
            "warning: oracle-instantclient19.3-sqlplus-19.3.0.0.0-1.x86_64.rpm: Header V3 RSA/SHA256 Signature, key ID ec551f03: NOKEY\n",
            "warning: oracle-instantclient19.3-sqlplus-19.3.0.0.0-1.x86_64.rpm: Header V3 RSA/SHA256 Signature, key ID ec551f03: NOKEY\n",
            "warning: oracle-instantclient19.3-sqlplus-19.3.0.0.0-1.x86_64.rpm: Header V3 RSA/SHA256 Signature, key ID ec551f03: NOKEY\n",
            "warning: oracle-instantclient19.3-sqlplus-19.3.0.0.0-1.x86_64.rpm: Header V3 RSA/SHA256 Signature, key ID ec551f03: NOKEY\n",
            "warning: oracle-instantclient19.3-sqlplus-19.3.0.0.0-1.x86_64.rpm: Header V3 RSA/SHA256 Signature, key ID ec551f03: NOKEY\n",
            "warning: oracle-instantclient19.3-sqlplus-19.3.0.0.0-1.x86_64.rpm: Header V3 RSA/SHA256 Signature, key ID ec551f03: NOKEY\n",
            "warning: oracle-instantclient19.3-sqlplus-19.3.0.0.0-1.x86_64.rpm: Header V3 RSA/SHA256 Signature, key ID ec551f03: NOKEY\n",
            "warning: oracle-instantclient19.3-sqlplus-19.3.0.0.0-1.x86_64.rpm: Header V3 RSA/SHA256 Signature, key ID ec551f03: NOKEY\n",
            "warning: oracle-instantclient19.3-sqlplus-19.3.0.0.0-1.x86_64.rpm: Header V3 RSA/SHA256 Signature, key ID ec551f03: NOKEY\n",
            "warning: oracle-instantclient19.3-sqlplus-19.3.0.0.0-1.x86_64.rpm: Header V3 RSA/SHA256 Signature, key ID ec551f03: NOKEY\n",
            "warning: oracle-instantclient19.3-sqlplus-19.3.0.0.0-1.x86_64.rpm: Header V3 RSA/SHA256 Signature, key ID ec551f03: NOKEY\n",
            "warning: oracle-instantclient19.3-sqlplus-19.3.0.0.0-1.x86_64.rpm: Header V3 RSA/SHA256 Signature, key ID ec551f03: NOKEY\n",
            "warning: oracle-instantclient19.3-sqlplus-19.3.0.0.0-1.x86_64.rpm: Header V3 RSA/SHA256 Signature, key ID ec551f03: NOKEY\n",
            "warning: oracle-instantclient19.3-sqlplus-19.3.0.0.0-1.x86_64.rpm: Header V3 RSA/SHA256 Signature, key ID ec551f03: NOKEY\n",
            "warning: oracle-instantclient19.3-sqlplus-19.3.0.0.0-1.x86_64.rpm: Header V3 RSA/SHA256 Signature, key ID ec551f03: NOKEY\n",
            "warning: oracle-instantclient19.3-sqlplus-19.3.0.0.0-1.x86_64.rpm: Header V3 RSA/SHA256 Signature, key ID ec551f03: NOKEY\n",
            "\tdpkg --no-force-overwrite -i oracle-instantclient19.3-sqlplus_19.3.0.0.0-2_amd64.deb\n",
            "Selecting previously unselected package oracle-instantclient19.3-sqlplus.\n",
            "(Reading database ... 122902 files and directories currently installed.)\n",
            "Preparing to unpack oracle-instantclient19.3-sqlplus_19.3.0.0.0-2_amd64.deb ...\n",
            "Unpacking oracle-instantclient19.3-sqlplus (19.3.0.0.0-2) ...\n",
            "Setting up oracle-instantclient19.3-sqlplus (19.3.0.0.0-2) ...\n",
            "Processing triggers for libc-bin (2.35-0ubuntu3.4) ...\n",
            "/sbin/ldconfig.real: /usr/local/lib/libtbb.so.12 is not a symbolic link\n",
            "\n",
            "/sbin/ldconfig.real: /usr/local/lib/libtbbbind_2_0.so.3 is not a symbolic link\n",
            "\n",
            "/sbin/ldconfig.real: /usr/local/lib/libtbbmalloc.so.2 is not a symbolic link\n",
            "\n",
            "/sbin/ldconfig.real: /usr/local/lib/libtbbbind.so.3 is not a symbolic link\n",
            "\n",
            "/sbin/ldconfig.real: /usr/local/lib/libtbbmalloc_proxy.so.2 is not a symbolic link\n",
            "\n",
            "/sbin/ldconfig.real: /usr/local/lib/libtbbbind_2_5.so.3 is not a symbolic link\n",
            "\n"
          ]
        }
      ],
      "source": [
        "! sudo alien -i --scripts oracle-instantclient19.3-sqlplus-19.3.0.0.0-1.x86_64.rpm"
      ]
    },
    {
      "cell_type": "code",
      "execution_count": null,
      "metadata": {
        "colab": {
          "base_uri": "https://localhost:8080/"
        },
        "id": "cDmPuTsgfQ39",
        "outputId": "746f28de-3dd8-4176-a350-97437dbb3b77"
      },
      "outputs": [
        {
          "name": "stdout",
          "output_type": "stream",
          "text": [
            "sqlplus is /usr/bin/sqlplus\n",
            "lrwxrwxrwx 1 root root 39 Dec 18 17:39 /usr/bin/sqlplus -> ../lib/oracle/19.3/client64/bin/sqlplus\n"
          ]
        }
      ],
      "source": [
        "! type sqlplus\n",
        "! ls -l /usr/bin/sqlplus"
      ]
    },
    {
      "cell_type": "code",
      "execution_count": null,
      "metadata": {
        "id": "3s4fDwpVbvql"
      },
      "outputs": [],
      "source": [
        "import cx_Oracle\n",
        "import sys\n",
        "\n",
        "# # Create a DSN (Data Source Name) for the connection\n",
        "# dsn_tns = cx_Oracle.makedsn('73.222.84.110', '1521', service_name='freepdb1')\n",
        "\n",
        "# # Connect to the Oracle database using the provided user, password, and DSN\n",
        "# conn = cx_Oracle.connect(user=r'hr', password='oracle', dsn=dsn_tns)\n",
        "\n",
        "# # Create a cursor to execute SQL queries\n",
        "# c = conn.cursor()  # Fixed the syntax issue here by removing the trailing '/'\n",
        "\n",
        "# # Execute the SQL query\n",
        "# c.execute('select * from ML_PROCESSING_STATUS')\n",
        "\n",
        "# # Print the results of the query\n",
        "# for row in c:\n",
        "#     print(row[0], '-', row[3])  # Print the first and fourth columns of each row\n",
        "\n",
        "# # Close the connection (this line is commented out, so it won't be executed)\n",
        "# # conn.close()"
      ]
    },
    {
      "cell_type": "code",
      "execution_count": null,
      "metadata": {
        "colab": {
          "base_uri": "https://localhost:8080/"
        },
        "id": "Xt64cg0T3VWu",
        "outputId": "6dd18fdc-ae6d-4c3c-c36c-f11fabe608f0"
      },
      "outputs": [
        {
          "name": "stdout",
          "output_type": "stream",
          "text": [
            "Requirement already satisfied: transformers in /usr/local/lib/python3.10/dist-packages (4.35.2)\n",
            "Requirement already satisfied: filelock in /usr/local/lib/python3.10/dist-packages (from transformers) (3.13.1)\n",
            "Requirement already satisfied: huggingface-hub<1.0,>=0.16.4 in /usr/local/lib/python3.10/dist-packages (from transformers) (0.19.4)\n",
            "Requirement already satisfied: numpy>=1.17 in /usr/local/lib/python3.10/dist-packages (from transformers) (1.23.5)\n",
            "Requirement already satisfied: packaging>=20.0 in /usr/local/lib/python3.10/dist-packages (from transformers) (23.2)\n",
            "Requirement already satisfied: pyyaml>=5.1 in /usr/local/lib/python3.10/dist-packages (from transformers) (6.0.1)\n",
            "Requirement already satisfied: regex!=2019.12.17 in /usr/local/lib/python3.10/dist-packages (from transformers) (2023.6.3)\n",
            "Requirement already satisfied: requests in /usr/local/lib/python3.10/dist-packages (from transformers) (2.31.0)\n",
            "Requirement already satisfied: tokenizers<0.19,>=0.14 in /usr/local/lib/python3.10/dist-packages (from transformers) (0.15.0)\n",
            "Requirement already satisfied: safetensors>=0.3.1 in /usr/local/lib/python3.10/dist-packages (from transformers) (0.4.1)\n",
            "Requirement already satisfied: tqdm>=4.27 in /usr/local/lib/python3.10/dist-packages (from transformers) (4.66.1)\n",
            "Requirement already satisfied: fsspec>=2023.5.0 in /usr/local/lib/python3.10/dist-packages (from huggingface-hub<1.0,>=0.16.4->transformers) (2023.6.0)\n",
            "Requirement already satisfied: typing-extensions>=3.7.4.3 in /usr/local/lib/python3.10/dist-packages (from huggingface-hub<1.0,>=0.16.4->transformers) (4.5.0)\n",
            "Requirement already satisfied: charset-normalizer<4,>=2 in /usr/local/lib/python3.10/dist-packages (from requests->transformers) (3.3.2)\n",
            "Requirement already satisfied: idna<4,>=2.5 in /usr/local/lib/python3.10/dist-packages (from requests->transformers) (3.6)\n",
            "Requirement already satisfied: urllib3<3,>=1.21.1 in /usr/local/lib/python3.10/dist-packages (from requests->transformers) (2.0.7)\n",
            "Requirement already satisfied: certifi>=2017.4.17 in /usr/local/lib/python3.10/dist-packages (from requests->transformers) (2023.11.17)\n"
          ]
        }
      ],
      "source": [
        "#Import Data\n",
        "#Get the necessary libraries ready\n",
        "from google.colab import files\n",
        "import pandas as pd\n",
        "import cx_Oracle\n",
        "import sys\n",
        "!pip install transformers\n",
        "from transformers import GPT2LMHeadModel, GPT2Tokenizer"
      ]
    },
    {
      "cell_type": "code",
      "execution_count": null,
      "metadata": {
        "colab": {
          "base_uri": "https://localhost:8080/",
          "height": 73
        },
        "id": "iFpA3-Qg3nHd",
        "outputId": "4fe2d3e4-abd7-497d-d629-5a9c1e7ff3c1"
      },
      "outputs": [
        {
          "data": {
            "text/html": [
              "\n",
              "     <input type=\"file\" id=\"files-b82b2f30-419e-4a9c-82c4-1e465862d5e0\" name=\"files[]\" multiple disabled\n",
              "        style=\"border:none\" />\n",
              "     <output id=\"result-b82b2f30-419e-4a9c-82c4-1e465862d5e0\">\n",
              "      Upload widget is only available when the cell has been executed in the\n",
              "      current browser session. Please rerun this cell to enable.\n",
              "      </output>\n",
              "      <script>// Copyright 2017 Google LLC\n",
              "//\n",
              "// Licensed under the Apache License, Version 2.0 (the \"License\");\n",
              "// you may not use this file except in compliance with the License.\n",
              "// You may obtain a copy of the License at\n",
              "//\n",
              "//      http://www.apache.org/licenses/LICENSE-2.0\n",
              "//\n",
              "// Unless required by applicable law or agreed to in writing, software\n",
              "// distributed under the License is distributed on an \"AS IS\" BASIS,\n",
              "// WITHOUT WARRANTIES OR CONDITIONS OF ANY KIND, either express or implied.\n",
              "// See the License for the specific language governing permissions and\n",
              "// limitations under the License.\n",
              "\n",
              "/**\n",
              " * @fileoverview Helpers for google.colab Python module.\n",
              " */\n",
              "(function(scope) {\n",
              "function span(text, styleAttributes = {}) {\n",
              "  const element = document.createElement('span');\n",
              "  element.textContent = text;\n",
              "  for (const key of Object.keys(styleAttributes)) {\n",
              "    element.style[key] = styleAttributes[key];\n",
              "  }\n",
              "  return element;\n",
              "}\n",
              "\n",
              "// Max number of bytes which will be uploaded at a time.\n",
              "const MAX_PAYLOAD_SIZE = 100 * 1024;\n",
              "\n",
              "function _uploadFiles(inputId, outputId) {\n",
              "  const steps = uploadFilesStep(inputId, outputId);\n",
              "  const outputElement = document.getElementById(outputId);\n",
              "  // Cache steps on the outputElement to make it available for the next call\n",
              "  // to uploadFilesContinue from Python.\n",
              "  outputElement.steps = steps;\n",
              "\n",
              "  return _uploadFilesContinue(outputId);\n",
              "}\n",
              "\n",
              "// This is roughly an async generator (not supported in the browser yet),\n",
              "// where there are multiple asynchronous steps and the Python side is going\n",
              "// to poll for completion of each step.\n",
              "// This uses a Promise to block the python side on completion of each step,\n",
              "// then passes the result of the previous step as the input to the next step.\n",
              "function _uploadFilesContinue(outputId) {\n",
              "  const outputElement = document.getElementById(outputId);\n",
              "  const steps = outputElement.steps;\n",
              "\n",
              "  const next = steps.next(outputElement.lastPromiseValue);\n",
              "  return Promise.resolve(next.value.promise).then((value) => {\n",
              "    // Cache the last promise value to make it available to the next\n",
              "    // step of the generator.\n",
              "    outputElement.lastPromiseValue = value;\n",
              "    return next.value.response;\n",
              "  });\n",
              "}\n",
              "\n",
              "/**\n",
              " * Generator function which is called between each async step of the upload\n",
              " * process.\n",
              " * @param {string} inputId Element ID of the input file picker element.\n",
              " * @param {string} outputId Element ID of the output display.\n",
              " * @return {!Iterable<!Object>} Iterable of next steps.\n",
              " */\n",
              "function* uploadFilesStep(inputId, outputId) {\n",
              "  const inputElement = document.getElementById(inputId);\n",
              "  inputElement.disabled = false;\n",
              "\n",
              "  const outputElement = document.getElementById(outputId);\n",
              "  outputElement.innerHTML = '';\n",
              "\n",
              "  const pickedPromise = new Promise((resolve) => {\n",
              "    inputElement.addEventListener('change', (e) => {\n",
              "      resolve(e.target.files);\n",
              "    });\n",
              "  });\n",
              "\n",
              "  const cancel = document.createElement('button');\n",
              "  inputElement.parentElement.appendChild(cancel);\n",
              "  cancel.textContent = 'Cancel upload';\n",
              "  const cancelPromise = new Promise((resolve) => {\n",
              "    cancel.onclick = () => {\n",
              "      resolve(null);\n",
              "    };\n",
              "  });\n",
              "\n",
              "  // Wait for the user to pick the files.\n",
              "  const files = yield {\n",
              "    promise: Promise.race([pickedPromise, cancelPromise]),\n",
              "    response: {\n",
              "      action: 'starting',\n",
              "    }\n",
              "  };\n",
              "\n",
              "  cancel.remove();\n",
              "\n",
              "  // Disable the input element since further picks are not allowed.\n",
              "  inputElement.disabled = true;\n",
              "\n",
              "  if (!files) {\n",
              "    return {\n",
              "      response: {\n",
              "        action: 'complete',\n",
              "      }\n",
              "    };\n",
              "  }\n",
              "\n",
              "  for (const file of files) {\n",
              "    const li = document.createElement('li');\n",
              "    li.append(span(file.name, {fontWeight: 'bold'}));\n",
              "    li.append(span(\n",
              "        `(${file.type || 'n/a'}) - ${file.size} bytes, ` +\n",
              "        `last modified: ${\n",
              "            file.lastModifiedDate ? file.lastModifiedDate.toLocaleDateString() :\n",
              "                                    'n/a'} - `));\n",
              "    const percent = span('0% done');\n",
              "    li.appendChild(percent);\n",
              "\n",
              "    outputElement.appendChild(li);\n",
              "\n",
              "    const fileDataPromise = new Promise((resolve) => {\n",
              "      const reader = new FileReader();\n",
              "      reader.onload = (e) => {\n",
              "        resolve(e.target.result);\n",
              "      };\n",
              "      reader.readAsArrayBuffer(file);\n",
              "    });\n",
              "    // Wait for the data to be ready.\n",
              "    let fileData = yield {\n",
              "      promise: fileDataPromise,\n",
              "      response: {\n",
              "        action: 'continue',\n",
              "      }\n",
              "    };\n",
              "\n",
              "    // Use a chunked sending to avoid message size limits. See b/62115660.\n",
              "    let position = 0;\n",
              "    do {\n",
              "      const length = Math.min(fileData.byteLength - position, MAX_PAYLOAD_SIZE);\n",
              "      const chunk = new Uint8Array(fileData, position, length);\n",
              "      position += length;\n",
              "\n",
              "      const base64 = btoa(String.fromCharCode.apply(null, chunk));\n",
              "      yield {\n",
              "        response: {\n",
              "          action: 'append',\n",
              "          file: file.name,\n",
              "          data: base64,\n",
              "        },\n",
              "      };\n",
              "\n",
              "      let percentDone = fileData.byteLength === 0 ?\n",
              "          100 :\n",
              "          Math.round((position / fileData.byteLength) * 100);\n",
              "      percent.textContent = `${percentDone}% done`;\n",
              "\n",
              "    } while (position < fileData.byteLength);\n",
              "  }\n",
              "\n",
              "  // All done.\n",
              "  yield {\n",
              "    response: {\n",
              "      action: 'complete',\n",
              "    }\n",
              "  };\n",
              "}\n",
              "\n",
              "scope.google = scope.google || {};\n",
              "scope.google.colab = scope.google.colab || {};\n",
              "scope.google.colab._files = {\n",
              "  _uploadFiles,\n",
              "  _uploadFilesContinue,\n",
              "};\n",
              "})(self);\n",
              "</script> "
            ],
            "text/plain": [
              "<IPython.core.display.HTML object>"
            ]
          },
          "metadata": {},
          "output_type": "display_data"
        },
        {
          "name": "stdout",
          "output_type": "stream",
          "text": [
            "Saving transition_data.csv to transition_data (1).csv\n"
          ]
        }
      ],
      "source": [
        "# Upload and read the CSV data\n",
        "uploaded = files.upload()\n",
        "df = pd.read_csv(\"transition_data.csv\")"
      ]
    },
    {
      "cell_type": "code",
      "execution_count": null,
      "metadata": {
        "id": "TkRi6kkr7u6Q"
      },
      "outputs": [],
      "source": [
        "# Convert string timestamps to datetime objects\n",
        "timestamp_columns = [\n",
        "    'ORDER_PURCHASE_TIMESTAMP',\n",
        "    'ORDER_APPROVED_AT',\n",
        "    'ORDER_DELIVERED_CARRIER_DATE',\n",
        "    'ORDER_DELIVERED_CUSTOMER_DATE',\n",
        "    'ORDER_ESTIMATED_DELIVERY_DATE'\n",
        "]\n",
        "for column in timestamp_columns:\n",
        "    df[column] = pd.to_datetime(df[column], format='%Y-%m-%d %H:%M:%S')"
      ]
    },
    {
      "cell_type": "code",
      "execution_count": null,
      "metadata": {
        "id": "mDir5r78nixA"
      },
      "outputs": [],
      "source": [
        "# Establish connection\n",
        "dsn_tns = cx_Oracle.makedsn('73.222.84.110', '1521', service_name='freepdb1')\n",
        "conn = cx_Oracle.connect(user=r'hr', password='oracle', dsn=dsn_tns)\n",
        "c = conn.cursor()"
      ]
    },
    {
      "cell_type": "code",
      "execution_count": null,
      "metadata": {
        "colab": {
          "base_uri": "https://localhost:8080/"
        },
        "id": "cFD5Uj3LCqZr",
        "outputId": "aa4275bc-487f-46b3-ded4-b2297cfb3e5f"
      },
      "outputs": [
        {
          "name": "stdout",
          "output_type": "stream",
          "text": [
            "ORA-00054: resource busy and acquire with NOWAIT specified or timeout expired\n"
          ]
        }
      ],
      "source": [
        "# Check and drop table if exists\n",
        "c.execute(\"SELECT COUNT(*) FROM user_tables WHERE table_name = 'TEMP2_RFM_ORDER_DATA'\")\n",
        "# If the count is 1, the table exists; if 0, it doesn't.\n",
        "try:\n",
        "  if c.fetchone()[0] == 1:\n",
        "    c.execute(\"DROP TABLE TEMP2_RFM_ORDER_DATA\")\n",
        "    print(\"TEMP2_RFM_ORDER_DATA table dropped.\")\n",
        "    conn.commit()\n",
        "except Exception as ex:\n",
        " print(ex)\n"
      ]
    },
    {
      "cell_type": "code",
      "execution_count": null,
      "metadata": {
        "colab": {
          "base_uri": "https://localhost:8080/",
          "height": 228
        },
        "id": "SpB_UilWCm5c",
        "outputId": "46768fcf-199c-4d10-be45-5e0d22916bf5"
      },
      "outputs": [
        {
          "ename": "DatabaseError",
          "evalue": "ignored",
          "output_type": "error",
          "traceback": [
            "\u001b[0;31m---------------------------------------------------------------------------\u001b[0m",
            "\u001b[0;31mDatabaseError\u001b[0m                             Traceback (most recent call last)",
            "\u001b[0;32m<ipython-input-35-d10d0071442b>\u001b[0m in \u001b[0;36m<cell line: 16>\u001b[0;34m()\u001b[0m\n\u001b[1;32m     14\u001b[0m )\n\u001b[1;32m     15\u001b[0m \"\"\"\n\u001b[0;32m---> 16\u001b[0;31m \u001b[0mc\u001b[0m\u001b[0;34m.\u001b[0m\u001b[0mexecute\u001b[0m\u001b[0;34m(\u001b[0m\u001b[0mcreate_table_query\u001b[0m\u001b[0;34m)\u001b[0m\u001b[0;34m\u001b[0m\u001b[0;34m\u001b[0m\u001b[0m\n\u001b[0m\u001b[1;32m     17\u001b[0m \u001b[0mconn\u001b[0m\u001b[0;34m.\u001b[0m\u001b[0mcommit\u001b[0m\u001b[0;34m(\u001b[0m\u001b[0;34m)\u001b[0m\u001b[0;34m\u001b[0m\u001b[0;34m\u001b[0m\u001b[0m\n",
            "\u001b[0;31mDatabaseError\u001b[0m: ORA-00955: name is already used by an existing object"
          ]
        }
      ],
      "source": [
        "# Create the table\n",
        "create_table_query = \"\"\"\n",
        "CREATE TABLE TMP2_RFM_ORDER_DATA (\n",
        "    ACCOUNT_ID VARCHAR(50),\n",
        "    ORDER_ID VARCHAR(255),\n",
        "    CUSTOMER_ID VARCHAR(255),\n",
        "    ORDER_STATUS VARCHAR(100),\n",
        "    ORDER_PURCHASE_TIMESTAMP TIMESTAMP,\n",
        "    ORDER_APPROVED_AT TIMESTAMP,\n",
        "    ORDER_DELIVERED_CARRIER_DATE TIMESTAMP,\n",
        "    ORDER_DELIVERED_CUSTOMER_DATE TIMESTAMP,\n",
        "    ORDER_ESTIMATED_DELIVERY_DATE TIMESTAMP,\n",
        "    DUMMY_DATA VARCHAR(255)\n",
        ")\n",
        "\"\"\"\n",
        "c.execute(create_table_query)\n",
        "conn.commit()"
      ]
    },
    {
      "cell_type": "code",
      "execution_count": null,
      "metadata": {
        "id": "JKJBdUw7x-Qw"
      },
      "outputs": [],
      "source": [
        "csv_file = '/content/transition_data.csv'\n",
        "# if file is exist run this\n",
        "df = pd.read_csv('transition_data.csv', encoding='utf-8')"
      ]
    },
    {
      "cell_type": "code",
      "execution_count": null,
      "metadata": {
        "id": "FnSfFikZBjJM"
      },
      "outputs": [],
      "source": [
        "# Insert data\n",
        "# insert_query = \"\"\"\n",
        "# INSERT INTO TEMP2_ORDER_RFM_DATA (ACCOUNT_ID, ORDER_ID, CUSTOMER_ID, ORDER_STATUS, ORDER_PURCHASE_TIMESTAMP, ORDER_APPROVED_AT, ORDER_DELIVERED_CARRIER_DATE, ORDER_DELIVERED_CUSTOMER_DATE, ORDER_ESTIMATED_DELIVERY_DATE, DUMMY_DATA)\n",
        "# VALUES (:1, :2, :3, :4, :5, :6, :7, :8, :9, :10： ：11)\n",
        "# \"\"\"\n",
        "# for _, row in df.iterrows():\n",
        "#     c.execute(insert_query, tuple(row))\n",
        "\n",
        "# Insert data new\n",
        "insert_query = \"\"\"\n",
        "INSERT INTO TEMP2_RFM_ORDER_DATA (ACCOUNT_ID, ORDER_ID, CUSTOMER_ID, ORDER_STATUS, ORDER_PURCHASE_TIMESTAMP,ORDER_APPROVED_AT,ORDER_DELIVERED_CARRIER_DATE,ORDER_DELIVERED_CUSTOMER_DATE,ORDER_ESTIMATED_DELIVERY_DATE)\n",
        "VALUES (:1, :2, :3, :4, :5, :6, :7, :8, :9)\n",
        "\"\"\"\n",
        "df = df.fillna('')\n",
        "\n",
        "for _, row in df.iterrows():\n",
        "    #print(str(len(row)))\n",
        "    # print(row)\n",
        "    print(tuple(row))\n",
        "    c.execute(insert_query,tuple(row))\n",
        "\n",
        "conn.commit()\n",
        "\n",
        "\n",
        "# Update column\n",
        "alter_table_add_query = \"\"\"\n",
        "UPDATE TEMP2_RFM_ORDER_DATA\n",
        "SET DUMMY = 'test' WHERE DUMMY IS NULL\n",
        "\"\"\"\n",
        "c.execute(alter_table_add_query)\n",
        "conn.commit()\n",
        "\n",
        "\n"
      ]
    },
    {
      "cell_type": "code",
      "execution_count": null,
      "metadata": {
        "id": "ZkTYVfX3wBBY"
      },
      "outputs": [],
      "source": [
        "# Update data (set the values in specific columns to NULL)\n",
        "update_query = \"\"\"\n",
        "UPDATE TMP2_RFM_ORDER_DATA\n",
        "SET\n",
        "    ORDER_APPROVED_AT = NULL,\n",
        "    ORDER_DELIVERED_CARRIER_DATE = NULL,\n",
        "    ORDER_DELIVERED_CUSTOMER_DATE = NULL,\n",
        "    ORDER_ESTIMATED_DELIVERY_DATE = NULL\n",
        "\"\"\"\n",
        "c.execute(update_query)\n",
        "conn.commit()\n",
        "\n",
        "# End\n",
        "c.close()\n",
        "conn.close()"
      ]
    },
    {
      "cell_type": "code",
      "execution_count": null,
      "metadata": {
        "id": "wa-JF3lUv7UQ"
      },
      "outputs": [],
      "source": [
        "# Add, rename, and delete columns\n",
        "alter_table_add_query = \"\"\"\n",
        "ALTER TABLE TMP2_RFM_ORDER_DATA\n",
        "ADD DUMMY_COLUMN VARCHAR2(255) DEFAULT 'dummy_value'\n",
        "\"\"\"\n",
        "alter_table_rename_query = \"\"\"\n",
        "ALTER TABLE TMP2_RFM_ORDER_DATA\n",
        "RENAME COLUMN DUMMY_COLUMN TO APPROPRIATE_DESTINATION\n",
        "\"\"\"\n",
        "alter_table_drop_query = \"\"\"\n",
        "ALTER TABLETMP2_RFM_ORDER_DATA\n",
        "DROP COLUMN APPROPRIATE_DESTINATION\n",
        "\"\"\""
      ]
    },
    {
      "cell_type": "markdown",
      "metadata": {
        "id": "bKnuqkjd4QCr"
      },
      "source": [
        "#**phase 2**"
      ]
    },
    {
      "cell_type": "markdown",
      "metadata": {
        "id": "Zf2zD6_24JV7"
      },
      "source": [
        "###**Connected to OracleDB**"
      ]
    },
    {
      "cell_type": "code",
      "execution_count": null,
      "metadata": {
        "colab": {
          "base_uri": "https://localhost:8080/"
        },
        "id": "roirjnzHmG6h",
        "outputId": "cc7985bf-4904-457b-8764-6a69fed6853f"
      },
      "outputs": [
        {
          "name": "stdout",
          "output_type": "stream",
          "text": [
            "ls: cannot access 'oracle-instantclient*-basiclite-*.rpm': No such file or directory\n",
            "--2023-12-23 03:45:39--  https://yum.oracle.com/repo/OracleLinux/OL7/oracle/instantclient/x86_64/getPackage/oracle-instantclient19.3-basiclite-19.3.0.0.0-1.x86_64.rpm\n",
            "Resolving yum.oracle.com (yum.oracle.com)... 23.46.193.190, 2600:1408:ec00:68c::2a7d, 2600:1408:ec00:685::2a7d\n",
            "Connecting to yum.oracle.com (yum.oracle.com)|23.46.193.190|:443... connected.\n",
            "HTTP request sent, awaiting response... 200 OK\n",
            "Length: 28553496 (27M) [application/x-rpm]\n",
            "Saving to: ‘oracle-instantclient19.3-basiclite-19.3.0.0.0-1.x86_64.rpm’\n",
            "\n",
            "\r          oracle-in   0%[                    ]       0  --.-KB/s               \roracle-instantclien 100%[===================>]  27.23M   176MB/s    in 0.2s    \n",
            "\n",
            "2023-12-23 03:45:39 (176 MB/s) - ‘oracle-instantclient19.3-basiclite-19.3.0.0.0-1.x86_64.rpm’ saved [28553496/28553496]\n",
            "\n",
            "ls: cannot access 'oracle-instantclient*-sqlplus-*.rpm': No such file or directory\n",
            "--2023-12-23 03:45:39--  https://yum.oracle.com/repo/OracleLinux/OL7/oracle/instantclient/x86_64/getPackage/oracle-instantclient19.3-sqlplus-19.3.0.0.0-1.x86_64.rpm\n",
            "Resolving yum.oracle.com (yum.oracle.com)... 23.46.193.190, 2600:1408:ec00:68c::2a7d, 2600:1408:ec00:685::2a7d\n",
            "Connecting to yum.oracle.com (yum.oracle.com)|23.46.193.190|:443... connected.\n",
            "HTTP request sent, awaiting response... 200 OK\n",
            "Length: 702792 (686K) [application/x-rpm]\n",
            "Saving to: ‘oracle-instantclient19.3-sqlplus-19.3.0.0.0-1.x86_64.rpm’\n",
            "\n",
            "oracle-instantclien 100%[===================>] 686.32K  --.-KB/s    in 0.01s   \n",
            "\n",
            "2023-12-23 03:45:39 (58.9 MB/s) - ‘oracle-instantclient19.3-sqlplus-19.3.0.0.0-1.x86_64.rpm’ saved [702792/702792]\n",
            "\n"
          ]
        }
      ],
      "source": [
        "! ls -l oracle-instantclient*-basiclite-*.rpm || wget https://yum.oracle.com/repo/OracleLinux/OL7/oracle/instantclient/x86_64/getPackage/oracle-instantclient19.3-basiclite-19.3.0.0.0-1.x86_64.rpm\n",
        "! ls -l oracle-instantclient*-sqlplus-*.rpm   || wget https://yum.oracle.com/repo/OracleLinux/OL7/oracle/instantclient/x86_64/getPackage/oracle-instantclient19.3-sqlplus-19.3.0.0.0-1.x86_64.rpm\n"
      ]
    },
    {
      "cell_type": "code",
      "execution_count": null,
      "metadata": {
        "colab": {
          "base_uri": "https://localhost:8080/"
        },
        "id": "OPE38DjRmJNS",
        "outputId": "500f4181-f86f-4bc6-ae52-a5e08f11b161"
      },
      "outputs": [
        {
          "name": "stdout",
          "output_type": "stream",
          "text": [
            "Collecting cx_Oracle\n",
            "  Downloading cx_Oracle-8.3.0-cp310-cp310-manylinux_2_5_x86_64.manylinux1_x86_64.manylinux_2_12_x86_64.manylinux2010_x86_64.whl (892 kB)\n",
            "\u001b[2K     \u001b[90m━━━━━━━━━━━━━━━━━━━━━━━━━━━━━━━━━━━━━━━━\u001b[0m \u001b[32m892.6/892.6 kB\u001b[0m \u001b[31m7.7 MB/s\u001b[0m eta \u001b[36m0:00:00\u001b[0m\n",
            "\u001b[?25hInstalling collected packages: cx_Oracle\n",
            "Successfully installed cx_Oracle-8.3.0\n"
          ]
        }
      ],
      "source": [
        "\n",
        "\n",
        "!pip install cx_Oracle"
      ]
    },
    {
      "cell_type": "code",
      "execution_count": null,
      "metadata": {
        "colab": {
          "base_uri": "https://localhost:8080/"
        },
        "id": "N3VIOlQcoqAV",
        "outputId": "43036236-3c9a-4ebd-c976-cf3ecebf047a"
      },
      "outputs": [
        {
          "name": "stdout",
          "output_type": "stream",
          "text": [
            "Reading package lists... Done\n",
            "Building dependency tree... Done\n",
            "Reading state information... Done\n",
            "libaio1 is already the newest version (0.3.112-13build1).\n",
            "libaio1 set to manually installed.\n",
            "The following additional packages will be installed:\n",
            "  autopoint cpio debhelper debugedit dh-autoreconf dh-strip-nondeterminism dwz\n",
            "  gettext gettext-base intltool-debian libarchive-cpio-perl\n",
            "  libarchive-zip-perl libdebhelper-perl libfile-stripnondeterminism-perl\n",
            "  libfsverity0 liblua5.3-0 libmail-sendmail-perl librpm9 librpmbuild9\n",
            "  librpmio9 librpmsign9 libsub-override-perl libsys-hostname-long-perl libtool\n",
            "  po-debconf rpm rpm-common rpm2cpio\n",
            "Suggested packages:\n",
            "  lintian libarchive1 dh-make gettext-doc libasprintf-dev libgettextpo-dev\n",
            "  libtool-doc gcj-jdk libmail-box-perl elfutils rpmlint rpm-i18n\n",
            "The following NEW packages will be installed:\n",
            "  alien autopoint cpio debhelper debugedit dh-autoreconf\n",
            "  dh-strip-nondeterminism dwz gettext gettext-base intltool-debian\n",
            "  libarchive-cpio-perl libarchive-zip-perl libdebhelper-perl\n",
            "  libfile-stripnondeterminism-perl libfsverity0 liblua5.3-0\n",
            "  libmail-sendmail-perl librpm9 librpmbuild9 librpmio9 librpmsign9\n",
            "  libsub-override-perl libsys-hostname-long-perl libtool po-debconf rpm\n",
            "  rpm-common rpm2cpio\n",
            "0 upgraded, 29 newly installed, 0 to remove and 24 not upgraded.\n",
            "Need to get 3,928 kB of archives.\n",
            "After this operation, 11.5 MB of additional disk space will be used.\n",
            "Get:1 http://archive.ubuntu.com/ubuntu jammy/main amd64 cpio amd64 2.13+dfsg-7 [83.2 kB]\n",
            "Get:2 http://archive.ubuntu.com/ubuntu jammy/main amd64 gettext-base amd64 0.21-4ubuntu4 [37.8 kB]\n",
            "Get:3 http://archive.ubuntu.com/ubuntu jammy/main amd64 autopoint all 0.21-4ubuntu4 [422 kB]\n",
            "Get:4 http://archive.ubuntu.com/ubuntu jammy/main amd64 libdebhelper-perl all 13.6ubuntu1 [67.2 kB]\n",
            "Get:5 http://archive.ubuntu.com/ubuntu jammy/main amd64 libtool all 2.4.6-15build2 [164 kB]\n",
            "Get:6 http://archive.ubuntu.com/ubuntu jammy/main amd64 dh-autoreconf all 20 [16.1 kB]\n",
            "Get:7 http://archive.ubuntu.com/ubuntu jammy/main amd64 libarchive-zip-perl all 1.68-1 [90.2 kB]\n",
            "Get:8 http://archive.ubuntu.com/ubuntu jammy/main amd64 libsub-override-perl all 0.09-2 [9,532 B]\n",
            "Get:9 http://archive.ubuntu.com/ubuntu jammy/main amd64 libfile-stripnondeterminism-perl all 1.13.0-1 [18.1 kB]\n",
            "Get:10 http://archive.ubuntu.com/ubuntu jammy/main amd64 dh-strip-nondeterminism all 1.13.0-1 [5,344 B]\n",
            "Get:11 http://archive.ubuntu.com/ubuntu jammy/main amd64 debugedit amd64 1:5.0-4build1 [47.2 kB]\n",
            "Get:12 http://archive.ubuntu.com/ubuntu jammy/main amd64 dwz amd64 0.14-1build2 [105 kB]\n",
            "Get:13 http://archive.ubuntu.com/ubuntu jammy/main amd64 gettext amd64 0.21-4ubuntu4 [868 kB]\n",
            "Get:14 http://archive.ubuntu.com/ubuntu jammy/main amd64 intltool-debian all 0.35.0+20060710.5 [24.9 kB]\n",
            "Get:15 http://archive.ubuntu.com/ubuntu jammy/main amd64 po-debconf all 1.0.21+nmu1 [233 kB]\n",
            "Get:16 http://archive.ubuntu.com/ubuntu jammy/main amd64 debhelper all 13.6ubuntu1 [923 kB]\n",
            "Get:17 http://archive.ubuntu.com/ubuntu jammy/main amd64 liblua5.3-0 amd64 5.3.6-1build1 [140 kB]\n",
            "Get:18 http://archive.ubuntu.com/ubuntu jammy/universe amd64 librpmio9 amd64 4.17.0+dfsg1-4build1 [93.2 kB]\n",
            "Get:19 http://archive.ubuntu.com/ubuntu jammy/universe amd64 librpm9 amd64 4.17.0+dfsg1-4build1 [189 kB]\n",
            "Get:20 http://archive.ubuntu.com/ubuntu jammy/universe amd64 librpmbuild9 amd64 4.17.0+dfsg1-4build1 [80.3 kB]\n",
            "Get:21 http://archive.ubuntu.com/ubuntu jammy/universe amd64 libfsverity0 amd64 1.4-1~exp1build1 [10.4 kB]\n",
            "Get:22 http://archive.ubuntu.com/ubuntu jammy/universe amd64 librpmsign9 amd64 4.17.0+dfsg1-4build1 [11.7 kB]\n",
            "Get:23 http://archive.ubuntu.com/ubuntu jammy/universe amd64 rpm-common amd64 4.17.0+dfsg1-4build1 [33.7 kB]\n",
            "Get:24 http://archive.ubuntu.com/ubuntu jammy/universe amd64 rpm2cpio amd64 4.17.0+dfsg1-4build1 [9,882 B]\n",
            "Get:25 http://archive.ubuntu.com/ubuntu jammy/universe amd64 rpm amd64 4.17.0+dfsg1-4build1 [151 kB]\n",
            "Get:26 http://archive.ubuntu.com/ubuntu jammy/universe amd64 alien all 8.95.5 [50.9 kB]\n",
            "Get:27 http://archive.ubuntu.com/ubuntu jammy/main amd64 libarchive-cpio-perl all 0.10-1.1 [9,928 B]\n",
            "Get:28 http://archive.ubuntu.com/ubuntu jammy/main amd64 libsys-hostname-long-perl all 1.5-2 [11.5 kB]\n",
            "Get:29 http://archive.ubuntu.com/ubuntu jammy/main amd64 libmail-sendmail-perl all 0.80-1.1 [22.7 kB]\n",
            "Fetched 3,928 kB in 2s (1,718 kB/s)\n",
            "debconf: unable to initialize frontend: Dialog\n",
            "debconf: (No usable dialog-like program is installed, so the dialog based frontend cannot be used. at /usr/share/perl5/Debconf/FrontEnd/Dialog.pm line 78, <> line 29.)\n",
            "debconf: falling back to frontend: Readline\n",
            "debconf: unable to initialize frontend: Readline\n",
            "debconf: (This frontend requires a controlling tty.)\n",
            "debconf: falling back to frontend: Teletype\n",
            "dpkg-preconfigure: unable to re-open stdin: \n",
            "Selecting previously unselected package cpio.\n",
            "(Reading database ... 121658 files and directories currently installed.)\n",
            "Preparing to unpack .../00-cpio_2.13+dfsg-7_amd64.deb ...\n",
            "Unpacking cpio (2.13+dfsg-7) ...\n",
            "Selecting previously unselected package gettext-base.\n",
            "Preparing to unpack .../01-gettext-base_0.21-4ubuntu4_amd64.deb ...\n",
            "Unpacking gettext-base (0.21-4ubuntu4) ...\n",
            "Selecting previously unselected package autopoint.\n",
            "Preparing to unpack .../02-autopoint_0.21-4ubuntu4_all.deb ...\n",
            "Unpacking autopoint (0.21-4ubuntu4) ...\n",
            "Selecting previously unselected package libdebhelper-perl.\n",
            "Preparing to unpack .../03-libdebhelper-perl_13.6ubuntu1_all.deb ...\n",
            "Unpacking libdebhelper-perl (13.6ubuntu1) ...\n",
            "Selecting previously unselected package libtool.\n",
            "Preparing to unpack .../04-libtool_2.4.6-15build2_all.deb ...\n",
            "Unpacking libtool (2.4.6-15build2) ...\n",
            "Selecting previously unselected package dh-autoreconf.\n",
            "Preparing to unpack .../05-dh-autoreconf_20_all.deb ...\n",
            "Unpacking dh-autoreconf (20) ...\n",
            "Selecting previously unselected package libarchive-zip-perl.\n",
            "Preparing to unpack .../06-libarchive-zip-perl_1.68-1_all.deb ...\n",
            "Unpacking libarchive-zip-perl (1.68-1) ...\n",
            "Selecting previously unselected package libsub-override-perl.\n",
            "Preparing to unpack .../07-libsub-override-perl_0.09-2_all.deb ...\n",
            "Unpacking libsub-override-perl (0.09-2) ...\n",
            "Selecting previously unselected package libfile-stripnondeterminism-perl.\n",
            "Preparing to unpack .../08-libfile-stripnondeterminism-perl_1.13.0-1_all.deb ...\n",
            "Unpacking libfile-stripnondeterminism-perl (1.13.0-1) ...\n",
            "Selecting previously unselected package dh-strip-nondeterminism.\n",
            "Preparing to unpack .../09-dh-strip-nondeterminism_1.13.0-1_all.deb ...\n",
            "Unpacking dh-strip-nondeterminism (1.13.0-1) ...\n",
            "Selecting previously unselected package debugedit.\n",
            "Preparing to unpack .../10-debugedit_1%3a5.0-4build1_amd64.deb ...\n",
            "Unpacking debugedit (1:5.0-4build1) ...\n",
            "Selecting previously unselected package dwz.\n",
            "Preparing to unpack .../11-dwz_0.14-1build2_amd64.deb ...\n",
            "Unpacking dwz (0.14-1build2) ...\n",
            "Selecting previously unselected package gettext.\n",
            "Preparing to unpack .../12-gettext_0.21-4ubuntu4_amd64.deb ...\n",
            "Unpacking gettext (0.21-4ubuntu4) ...\n",
            "Selecting previously unselected package intltool-debian.\n",
            "Preparing to unpack .../13-intltool-debian_0.35.0+20060710.5_all.deb ...\n",
            "Unpacking intltool-debian (0.35.0+20060710.5) ...\n",
            "Selecting previously unselected package po-debconf.\n",
            "Preparing to unpack .../14-po-debconf_1.0.21+nmu1_all.deb ...\n",
            "Unpacking po-debconf (1.0.21+nmu1) ...\n",
            "Selecting previously unselected package debhelper.\n",
            "Preparing to unpack .../15-debhelper_13.6ubuntu1_all.deb ...\n",
            "Unpacking debhelper (13.6ubuntu1) ...\n",
            "Selecting previously unselected package liblua5.3-0:amd64.\n",
            "Preparing to unpack .../16-liblua5.3-0_5.3.6-1build1_amd64.deb ...\n",
            "Unpacking liblua5.3-0:amd64 (5.3.6-1build1) ...\n",
            "Selecting previously unselected package librpmio9.\n",
            "Preparing to unpack .../17-librpmio9_4.17.0+dfsg1-4build1_amd64.deb ...\n",
            "Unpacking librpmio9 (4.17.0+dfsg1-4build1) ...\n",
            "Selecting previously unselected package librpm9.\n",
            "Preparing to unpack .../18-librpm9_4.17.0+dfsg1-4build1_amd64.deb ...\n",
            "Unpacking librpm9 (4.17.0+dfsg1-4build1) ...\n",
            "Selecting previously unselected package librpmbuild9.\n",
            "Preparing to unpack .../19-librpmbuild9_4.17.0+dfsg1-4build1_amd64.deb ...\n",
            "Unpacking librpmbuild9 (4.17.0+dfsg1-4build1) ...\n",
            "Selecting previously unselected package libfsverity0:amd64.\n",
            "Preparing to unpack .../20-libfsverity0_1.4-1~exp1build1_amd64.deb ...\n",
            "Unpacking libfsverity0:amd64 (1.4-1~exp1build1) ...\n",
            "Selecting previously unselected package librpmsign9.\n",
            "Preparing to unpack .../21-librpmsign9_4.17.0+dfsg1-4build1_amd64.deb ...\n",
            "Unpacking librpmsign9 (4.17.0+dfsg1-4build1) ...\n",
            "Selecting previously unselected package rpm-common.\n",
            "Preparing to unpack .../22-rpm-common_4.17.0+dfsg1-4build1_amd64.deb ...\n",
            "Unpacking rpm-common (4.17.0+dfsg1-4build1) ...\n",
            "Selecting previously unselected package rpm2cpio.\n",
            "Preparing to unpack .../23-rpm2cpio_4.17.0+dfsg1-4build1_amd64.deb ...\n",
            "Unpacking rpm2cpio (4.17.0+dfsg1-4build1) ...\n",
            "Selecting previously unselected package rpm.\n",
            "Preparing to unpack .../24-rpm_4.17.0+dfsg1-4build1_amd64.deb ...\n",
            "Unpacking rpm (4.17.0+dfsg1-4build1) ...\n",
            "Selecting previously unselected package alien.\n",
            "Preparing to unpack .../25-alien_8.95.5_all.deb ...\n",
            "Unpacking alien (8.95.5) ...\n",
            "Selecting previously unselected package libarchive-cpio-perl.\n",
            "Preparing to unpack .../26-libarchive-cpio-perl_0.10-1.1_all.deb ...\n",
            "Unpacking libarchive-cpio-perl (0.10-1.1) ...\n",
            "Selecting previously unselected package libsys-hostname-long-perl.\n",
            "Preparing to unpack .../27-libsys-hostname-long-perl_1.5-2_all.deb ...\n",
            "Unpacking libsys-hostname-long-perl (1.5-2) ...\n",
            "Selecting previously unselected package libmail-sendmail-perl.\n",
            "Preparing to unpack .../28-libmail-sendmail-perl_0.80-1.1_all.deb ...\n",
            "Unpacking libmail-sendmail-perl (0.80-1.1) ...\n",
            "Setting up cpio (2.13+dfsg-7) ...\n",
            "update-alternatives: using /bin/mt-gnu to provide /bin/mt (mt) in auto mode\n",
            "Setting up libtool (2.4.6-15build2) ...\n",
            "Setting up libarchive-zip-perl (1.68-1) ...\n",
            "Setting up libdebhelper-perl (13.6ubuntu1) ...\n",
            "Setting up gettext-base (0.21-4ubuntu4) ...\n",
            "Setting up libfsverity0:amd64 (1.4-1~exp1build1) ...\n",
            "Setting up autopoint (0.21-4ubuntu4) ...\n",
            "Setting up dwz (0.14-1build2) ...\n",
            "Setting up libarchive-cpio-perl (0.10-1.1) ...\n",
            "Setting up liblua5.3-0:amd64 (5.3.6-1build1) ...\n",
            "Setting up debugedit (1:5.0-4build1) ...\n",
            "Setting up libsub-override-perl (0.09-2) ...\n",
            "Setting up libsys-hostname-long-perl (1.5-2) ...\n",
            "Setting up librpmio9 (4.17.0+dfsg1-4build1) ...\n",
            "Setting up libfile-stripnondeterminism-perl (1.13.0-1) ...\n",
            "Setting up librpm9 (4.17.0+dfsg1-4build1) ...\n",
            "Setting up gettext (0.21-4ubuntu4) ...\n",
            "Setting up rpm-common (4.17.0+dfsg1-4build1) ...\n",
            "Setting up intltool-debian (0.35.0+20060710.5) ...\n",
            "Setting up dh-autoreconf (20) ...\n",
            "Setting up libmail-sendmail-perl (0.80-1.1) ...\n",
            "Setting up librpmbuild9 (4.17.0+dfsg1-4build1) ...\n",
            "Setting up dh-strip-nondeterminism (1.13.0-1) ...\n",
            "Setting up librpmsign9 (4.17.0+dfsg1-4build1) ...\n",
            "Setting up rpm2cpio (4.17.0+dfsg1-4build1) ...\n",
            "Setting up po-debconf (1.0.21+nmu1) ...\n",
            "Setting up rpm (4.17.0+dfsg1-4build1) ...\n",
            "Setting up debhelper (13.6ubuntu1) ...\n",
            "Setting up alien (8.95.5) ...\n",
            "Processing triggers for libc-bin (2.35-0ubuntu3.4) ...\n",
            "/sbin/ldconfig.real: /usr/local/lib/libtbbbind.so.3 is not a symbolic link\n",
            "\n",
            "/sbin/ldconfig.real: /usr/local/lib/libtbbbind_2_5.so.3 is not a symbolic link\n",
            "\n",
            "/sbin/ldconfig.real: /usr/local/lib/libtbbmalloc.so.2 is not a symbolic link\n",
            "\n",
            "/sbin/ldconfig.real: /usr/local/lib/libtbbbind_2_0.so.3 is not a symbolic link\n",
            "\n",
            "/sbin/ldconfig.real: /usr/local/lib/libtbb.so.12 is not a symbolic link\n",
            "\n",
            "/sbin/ldconfig.real: /usr/local/lib/libtbbmalloc_proxy.so.2 is not a symbolic link\n",
            "\n",
            "Processing triggers for man-db (2.10.2-1) ...\n",
            "Processing triggers for dbus (1.12.20-2ubuntu4.1) ...\n"
          ]
        }
      ],
      "source": [
        "! sudo apt-get install alien libaio1"
      ]
    },
    {
      "cell_type": "code",
      "execution_count": null,
      "metadata": {
        "colab": {
          "base_uri": "https://localhost:8080/"
        },
        "id": "bosuosaSV4IO",
        "outputId": "739a971a-7bc4-4bc0-f72d-57d214fa1926"
      },
      "outputs": [
        {
          "name": "stdout",
          "output_type": "stream",
          "text": [
            "warning: oracle-instantclient19.3-basiclite-19.3.0.0.0-1.x86_64.rpm: Header V3 RSA/SHA256 Signature, key ID ec551f03: NOKEY\n",
            "warning: oracle-instantclient19.3-basiclite-19.3.0.0.0-1.x86_64.rpm: Header V3 RSA/SHA256 Signature, key ID ec551f03: NOKEY\n",
            "warning: oracle-instantclient19.3-basiclite-19.3.0.0.0-1.x86_64.rpm: Header V3 RSA/SHA256 Signature, key ID ec551f03: NOKEY\n",
            "warning: oracle-instantclient19.3-basiclite-19.3.0.0.0-1.x86_64.rpm: Header V3 RSA/SHA256 Signature, key ID ec551f03: NOKEY\n",
            "warning: oracle-instantclient19.3-basiclite-19.3.0.0.0-1.x86_64.rpm: Header V3 RSA/SHA256 Signature, key ID ec551f03: NOKEY\n",
            "warning: oracle-instantclient19.3-basiclite-19.3.0.0.0-1.x86_64.rpm: Header V3 RSA/SHA256 Signature, key ID ec551f03: NOKEY\n",
            "warning: oracle-instantclient19.3-basiclite-19.3.0.0.0-1.x86_64.rpm: Header V3 RSA/SHA256 Signature, key ID ec551f03: NOKEY\n",
            "warning: oracle-instantclient19.3-basiclite-19.3.0.0.0-1.x86_64.rpm: Header V3 RSA/SHA256 Signature, key ID ec551f03: NOKEY\n",
            "warning: oracle-instantclient19.3-basiclite-19.3.0.0.0-1.x86_64.rpm: Header V3 RSA/SHA256 Signature, key ID ec551f03: NOKEY\n",
            "warning: oracle-instantclient19.3-basiclite-19.3.0.0.0-1.x86_64.rpm: Header V3 RSA/SHA256 Signature, key ID ec551f03: NOKEY\n",
            "warning: oracle-instantclient19.3-basiclite-19.3.0.0.0-1.x86_64.rpm: Header V3 RSA/SHA256 Signature, key ID ec551f03: NOKEY\n",
            "warning: oracle-instantclient19.3-basiclite-19.3.0.0.0-1.x86_64.rpm: Header V3 RSA/SHA256 Signature, key ID ec551f03: NOKEY\n",
            "warning: oracle-instantclient19.3-basiclite-19.3.0.0.0-1.x86_64.rpm: Header V3 RSA/SHA256 Signature, key ID ec551f03: NOKEY\n",
            "warning: oracle-instantclient19.3-basiclite-19.3.0.0.0-1.x86_64.rpm: Header V3 RSA/SHA256 Signature, key ID ec551f03: NOKEY\n",
            "warning: oracle-instantclient19.3-basiclite-19.3.0.0.0-1.x86_64.rpm: Header V3 RSA/SHA256 Signature, key ID ec551f03: NOKEY\n",
            "warning: oracle-instantclient19.3-basiclite-19.3.0.0.0-1.x86_64.rpm: Header V3 RSA/SHA256 Signature, key ID ec551f03: NOKEY\n",
            "Warning: Skipping conversion of scripts in package oracle-instantclient19.3-basiclite: postinst postrm\n",
            "Warning: Use the --scripts parameter to include the scripts.\n",
            "warning: oracle-instantclient19.3-basiclite-19.3.0.0.0-1.x86_64.rpm: Header V3 RSA/SHA256 Signature, key ID ec551f03: NOKEY\n",
            "\tdpkg --no-force-overwrite -i oracle-instantclient19.3-basiclite_19.3.0.0.0-2_amd64.deb\n",
            "Selecting previously unselected package oracle-instantclient19.3-basiclite.\n",
            "(Reading database ... 122857 files and directories currently installed.)\n",
            "Preparing to unpack oracle-instantclient19.3-basiclite_19.3.0.0.0-2_amd64.deb ...\n",
            "Unpacking oracle-instantclient19.3-basiclite (19.3.0.0.0-2) ...\n",
            "Setting up oracle-instantclient19.3-basiclite (19.3.0.0.0-2) ...\n",
            "Processing triggers for libc-bin (2.35-0ubuntu3.4) ...\n",
            "/sbin/ldconfig.real: /usr/local/lib/libtbbbind.so.3 is not a symbolic link\n",
            "\n",
            "/sbin/ldconfig.real: /usr/local/lib/libtbbbind_2_5.so.3 is not a symbolic link\n",
            "\n",
            "/sbin/ldconfig.real: /usr/local/lib/libtbbmalloc.so.2 is not a symbolic link\n",
            "\n",
            "/sbin/ldconfig.real: /usr/local/lib/libtbbbind_2_0.so.3 is not a symbolic link\n",
            "\n",
            "/sbin/ldconfig.real: /usr/local/lib/libtbb.so.12 is not a symbolic link\n",
            "\n",
            "/sbin/ldconfig.real: /usr/local/lib/libtbbmalloc_proxy.so.2 is not a symbolic link\n",
            "\n"
          ]
        }
      ],
      "source": [
        "! sudo alien -i oracle-instantclient19.3-basiclite-19.3.0.0.0-1.x86_64.rpm"
      ]
    },
    {
      "cell_type": "code",
      "execution_count": null,
      "metadata": {
        "colab": {
          "base_uri": "https://localhost:8080/"
        },
        "id": "WIe98PEdpBTn",
        "outputId": "c27afe18-c15d-4ae6-dd25-039d76fa5572"
      },
      "outputs": [
        {
          "name": "stdout",
          "output_type": "stream",
          "text": [
            "warning: oracle-instantclient19.3-sqlplus-19.3.0.0.0-1.x86_64.rpm: Header V3 RSA/SHA256 Signature, key ID ec551f03: NOKEY\n",
            "warning: oracle-instantclient19.3-sqlplus-19.3.0.0.0-1.x86_64.rpm: Header V3 RSA/SHA256 Signature, key ID ec551f03: NOKEY\n",
            "warning: oracle-instantclient19.3-sqlplus-19.3.0.0.0-1.x86_64.rpm: Header V3 RSA/SHA256 Signature, key ID ec551f03: NOKEY\n",
            "warning: oracle-instantclient19.3-sqlplus-19.3.0.0.0-1.x86_64.rpm: Header V3 RSA/SHA256 Signature, key ID ec551f03: NOKEY\n",
            "warning: oracle-instantclient19.3-sqlplus-19.3.0.0.0-1.x86_64.rpm: Header V3 RSA/SHA256 Signature, key ID ec551f03: NOKEY\n",
            "warning: oracle-instantclient19.3-sqlplus-19.3.0.0.0-1.x86_64.rpm: Header V3 RSA/SHA256 Signature, key ID ec551f03: NOKEY\n",
            "warning: oracle-instantclient19.3-sqlplus-19.3.0.0.0-1.x86_64.rpm: Header V3 RSA/SHA256 Signature, key ID ec551f03: NOKEY\n",
            "warning: oracle-instantclient19.3-sqlplus-19.3.0.0.0-1.x86_64.rpm: Header V3 RSA/SHA256 Signature, key ID ec551f03: NOKEY\n",
            "warning: oracle-instantclient19.3-sqlplus-19.3.0.0.0-1.x86_64.rpm: Header V3 RSA/SHA256 Signature, key ID ec551f03: NOKEY\n",
            "warning: oracle-instantclient19.3-sqlplus-19.3.0.0.0-1.x86_64.rpm: Header V3 RSA/SHA256 Signature, key ID ec551f03: NOKEY\n",
            "warning: oracle-instantclient19.3-sqlplus-19.3.0.0.0-1.x86_64.rpm: Header V3 RSA/SHA256 Signature, key ID ec551f03: NOKEY\n",
            "warning: oracle-instantclient19.3-sqlplus-19.3.0.0.0-1.x86_64.rpm: Header V3 RSA/SHA256 Signature, key ID ec551f03: NOKEY\n",
            "warning: oracle-instantclient19.3-sqlplus-19.3.0.0.0-1.x86_64.rpm: Header V3 RSA/SHA256 Signature, key ID ec551f03: NOKEY\n",
            "warning: oracle-instantclient19.3-sqlplus-19.3.0.0.0-1.x86_64.rpm: Header V3 RSA/SHA256 Signature, key ID ec551f03: NOKEY\n",
            "warning: oracle-instantclient19.3-sqlplus-19.3.0.0.0-1.x86_64.rpm: Header V3 RSA/SHA256 Signature, key ID ec551f03: NOKEY\n",
            "warning: oracle-instantclient19.3-sqlplus-19.3.0.0.0-1.x86_64.rpm: Header V3 RSA/SHA256 Signature, key ID ec551f03: NOKEY\n",
            "warning: oracle-instantclient19.3-sqlplus-19.3.0.0.0-1.x86_64.rpm: Header V3 RSA/SHA256 Signature, key ID ec551f03: NOKEY\n",
            "\tdpkg --no-force-overwrite -i oracle-instantclient19.3-sqlplus_19.3.0.0.0-2_amd64.deb\n",
            "Selecting previously unselected package oracle-instantclient19.3-sqlplus.\n",
            "(Reading database ... 122894 files and directories currently installed.)\n",
            "Preparing to unpack oracle-instantclient19.3-sqlplus_19.3.0.0.0-2_amd64.deb ...\n",
            "Unpacking oracle-instantclient19.3-sqlplus (19.3.0.0.0-2) ...\n",
            "Setting up oracle-instantclient19.3-sqlplus (19.3.0.0.0-2) ...\n",
            "Processing triggers for libc-bin (2.35-0ubuntu3.4) ...\n",
            "/sbin/ldconfig.real: /usr/local/lib/libtbbbind.so.3 is not a symbolic link\n",
            "\n",
            "/sbin/ldconfig.real: /usr/local/lib/libtbbbind_2_5.so.3 is not a symbolic link\n",
            "\n",
            "/sbin/ldconfig.real: /usr/local/lib/libtbbmalloc.so.2 is not a symbolic link\n",
            "\n",
            "/sbin/ldconfig.real: /usr/local/lib/libtbbbind_2_0.so.3 is not a symbolic link\n",
            "\n",
            "/sbin/ldconfig.real: /usr/local/lib/libtbb.so.12 is not a symbolic link\n",
            "\n",
            "/sbin/ldconfig.real: /usr/local/lib/libtbbmalloc_proxy.so.2 is not a symbolic link\n",
            "\n"
          ]
        }
      ],
      "source": [
        "! sudo alien -i --scripts oracle-instantclient19.3-sqlplus-19.3.0.0.0-1.x86_64.rpm"
      ]
    },
    {
      "cell_type": "code",
      "execution_count": null,
      "metadata": {
        "colab": {
          "base_uri": "https://localhost:8080/"
        },
        "id": "-brjxyvd2RVk",
        "outputId": "a5267198-305f-4d5e-e882-f31d25016d32"
      },
      "outputs": [
        {
          "name": "stdout",
          "output_type": "stream",
          "text": [
            "1005 - subjectline\n",
            "1005 - subjectline\n",
            "123 - image_targeting\n",
            "123 - image_targeting\n",
            "1 - image_targeting\n",
            "1 - image_targeting\n",
            "1 - image_targeting\n",
            "2 - image_targeting\n",
            "2 - image_targeting\n",
            "2 - image_targeting\n",
            "3 - image_targeting\n",
            "3 - image_targeting\n",
            "3 - image_targeting\n",
            "1005 - subjectline\n",
            "123 - image_targeting\n"
          ]
        }
      ],
      "source": [
        "import cx_Oracle\n",
        "import sys\n",
        "\n",
        "# Create a DSN (Data Source Name) for the connection\n",
        "dsn_tns = cx_Oracle.makedsn('73.222.84.xxx', '1521', service_name='freepdb1')\n",
        "\n",
        "# Connect to the Oracle database using the provided user, password, and DSN\n",
        "conn = cx_Oracle.connect(user=r'hr', password='oracle', dsn=dsn_tns)\n",
        "\n",
        "# Create a cursor to execute SQL queries\n",
        "c = conn.cursor()  # Fixed the syntax issue here by removing the trailing '/'\n",
        "\n",
        "# Execute the SQL query\n",
        "c.execute('select * from ML_PROCESSING_STATUS')\n",
        "\n",
        "# Print the results of the query\n",
        "for row in c:\n",
        "    print(row[0], '-', row[3])  # Print the first and fourth columns of each row\n",
        "\n",
        "# Close the connection (this line is commented out, so it won't be executed)\n",
        "# conn.close()\n"
      ]
    },
    {
      "cell_type": "code",
      "execution_count": null,
      "metadata": {
        "colab": {
          "base_uri": "https://localhost:8080/"
        },
        "id": "IAXVWFQDmbXj",
        "outputId": "ba2a4bff-117a-4d39-89f5-312e94563e1f"
      },
      "outputs": [
        {
          "name": "stdout",
          "output_type": "stream",
          "text": [
            "sqlplus is /usr/bin/sqlplus\n",
            "lrwxrwxrwx 1 root root 39 Dec 23 03:47 /usr/bin/sqlplus -> ../lib/oracle/19.3/client64/bin/sqlplus\n"
          ]
        }
      ],
      "source": [
        "! type sqlplus\n",
        "! ls -l /usr/bin/sqlplus"
      ]
    },
    {
      "cell_type": "code",
      "execution_count": null,
      "metadata": {
        "id": "GGapL1wcpqa0"
      },
      "outputs": [],
      "source": [
        "#!sqlplus /nolog <<<'exit'"
      ]
    },
    {
      "cell_type": "code",
      "execution_count": null,
      "metadata": {
        "id": "AMi04a0wlfp5"
      },
      "outputs": [],
      "source": []
    },
    {
      "cell_type": "markdown",
      "metadata": {
        "id": "msYyw-WI6WwW"
      },
      "source": [
        "###**Set Up the Environment**"
      ]
    },
    {
      "cell_type": "code",
      "execution_count": null,
      "metadata": {
        "id": "493mxkgt4WJG"
      },
      "outputs": [],
      "source": [
        "#12/15/2023 update\n",
        "import requests\n",
        "import json\n",
        "\n",
        "# Set OpenAI API key\n",
        "api_key = 'xxx'\n"
      ]
    },
    {
      "cell_type": "markdown",
      "metadata": {
        "id": "gd2YFM3W6ZnE"
      },
      "source": [
        "###**Prepare and Send OpenAI Query**\n"
      ]
    },
    {
      "cell_type": "markdown",
      "metadata": {
        "id": "XIPliE0yAB5A"
      },
      "source": [
        "- Generating SQL Command with OpenAI API:\n",
        "\n",
        "Use the OpenAI API to generate a SQL command based on a given prompt.\n",
        "The response contains a SQL command to delete a column from a table."
      ]
    },
    {
      "cell_type": "code",
      "execution_count": 11,
      "metadata": {
        "colab": {
          "base_uri": "https://localhost:8080/"
        },
        "id": "8_y4beX46Szf",
        "outputId": "d2e51f4d-4d3a-48a7-f32d-5aa641f53aa6"
      },
      "outputs": [
        {
          "name": "stdout",
          "output_type": "stream",
          "text": [
            "Generated SQL Command: ALTER TABLE RFM_ORDER_DATA\n",
            "DROP COLUMN extra_column;\n"
          ]
        }
      ],
      "source": [
        "#Create a prompt to ask the OpenAI model to generate a SQL command for deleting a column:\n",
        "# Prepare the prompt\n",
        "prompt = \"\"\"\n",
        "### Postgres SQL tables, with their properties:\n",
        "# RFM_ORDER_DATA(ACCOUNT_ID, ORDER_ID, CUSTOMER_ID, ORDER_STATUS, ORDER_PURCHASE_TIMESTAMP, ORDER_APPROVED_AT, ORDER_DELIVERED_CARRIER_DATE, ORDER_DELIVERED_CUSTOMER_DATE, ORDER_ESTIMATED_DELIVERY_DATE, extra_column)\n",
        "# Write a SQL query to delete the 'extra_column' from the 'RFM_ORDER_DATA' table.\n",
        "\"\"\"\n",
        "\n",
        "# Send a request to OpenAI API\n",
        "response = requests.post(\n",
        "    'https://api.openai.com/v1/completions',\n",
        "    headers={'Authorization': f'Bearer {api_key}'},\n",
        "    json={\n",
        "        'model': 'text-davinci-002',  # Or fine-tuned model ID\n",
        "        'prompt': prompt,\n",
        "        'max_tokens': 100\n",
        "    }\n",
        ")\n",
        "\n",
        "# Extract the SQL command from the response\n",
        "if response.status_code == 200:\n",
        "    sql_command = response.json()['choices'][0]['text'].strip()\n",
        "    print(\"Generated SQL Command:\", sql_command)\n",
        "else:\n",
        "    print(\"Failed to generate SQL command:\", response.json())\n"
      ]
    },
    {
      "cell_type": "markdown",
      "metadata": {
        "id": "rBRbSpSjt1lK"
      },
      "source": [
        "- Interactive Script for SQL Command Generation:\n",
        "\n",
        "A function generate_sql_command uses the OpenAI API to generate SQL commands based on a user-provided prompt.\n",
        "The main function interacts with the user, asking for their desired action (delete, rename, add, update) and relevant details to construct a prompt.\n",
        "The SQL command is then generated and printed."
      ]
    },
    {
      "cell_type": "code",
      "execution_count": 12,
      "metadata": {
        "colab": {
          "base_uri": "https://localhost:8080/"
        },
        "id": "RSgBykJC0nqz",
        "outputId": "a40b6dd9-d1b3-4f67-b435-6c3bf5fa0193"
      },
      "outputs": [
        {
          "name": "stdout",
          "output_type": "stream",
          "text": [
            "Welcome to the SQL Command Generator!\n",
            "Choose an action ('delete', 'rename', 'add', 'update'): rename\n",
            "Enter the column to rename: ORDER_ID\n",
            "Enter the new name for the column: ORDER_ID1\n",
            "Generated SQL Command: ALTER TABLE RFM_ORDER_DATA RENAME COLUMN ORDER_ID TO ORDER_ID1;\n"
          ]
        }
      ],
      "source": [
        "# Function to generate SQL command using OpenAI API\n",
        "def generate_sql_command(prompt):\n",
        "    response = requests.post(\n",
        "        'https://api.openai.com/v1/completions',\n",
        "        headers={'Authorization': f'Bearer {api_key}'},\n",
        "        json={\n",
        "            'model': 'text-davinci-002',  # Or your fine-tuned model ID\n",
        "            'prompt': prompt,\n",
        "            'max_tokens': 100\n",
        "        }\n",
        "    )\n",
        "    if response.status_code == 200:\n",
        "        return response.json()['choices'][0]['text'].strip()\n",
        "    else:\n",
        "        return \"Failed to generate SQL command: \" + str(response.json())\n",
        "\n",
        "# Main interactive script\n",
        "def main():\n",
        "    print(\"Welcome to the SQL Command Generator!\")\n",
        "    action = input(\"Choose an action ('delete', 'rename', 'add', 'update'): \").lower()\n",
        "\n",
        "    table_context = \"### Postgres SQL tables, with their properties:\\n# RFM_ORDER_DATA(ACCOUNT_ID, ORDER_ID, CUSTOMER_ID, ORDER_STATUS, ORDER_PURCHASE_TIMESTAMP, ORDER_APPROVED_AT, ORDER_DELIVERED_CARRIER_DATE, ORDER_DELIVERED_CUSTOMER_DATE, ORDER_ESTIMATED_DELIVERY_DATE)\\n# \"\n",
        "\n",
        "    if action == \"delete\":\n",
        "        column_to_delete = input(\"Enter the column to delete: \")\n",
        "        prompt = table_context + f\"Write a SQL query to delete the '{column_to_delete}' column from the 'RFM_ORDER_DATA' table.\"\n",
        "        print(\"Generated SQL Command:\", generate_sql_command(prompt))\n",
        "\n",
        "    elif action == \"rename\":\n",
        "        column_to_rename = input(\"Enter the column to rename: \")\n",
        "        new_column_name = input(\"Enter the new name for the column: \")\n",
        "        prompt = table_context + f\"Write a SQL query to rename the '{column_to_rename}' column to '{new_column_name}' in the 'RFM_ORDER_DATA' table.\"\n",
        "        print(\"Generated SQL Command:\", generate_sql_command(prompt))\n",
        "\n",
        "    elif action == \"add\":\n",
        "        new_column_name = input(\"Enter the name of the new column: \")\n",
        "        column_type = input(\"Enter the data type of the new column: \")\n",
        "        prompt = table_context + f\"Write a SQL query to add a new column named '{new_column_name}' of type {column_type} in the 'RFM_ORDER_DATA' table.\"\n",
        "        print(\"Generated SQL Command:\", generate_sql_command(prompt))\n",
        "\n",
        "    elif action == \"update\":\n",
        "        column_to_update = input(\"Enter the column to update: \")\n",
        "        new_value = input(\"Enter the new value for the column: \")\n",
        "        condition = input(\"Enter the condition for the update (optional, press Enter to skip): \")\n",
        "        condition_clause = f\" WHERE {condition}\" if condition else \"\"\n",
        "        prompt = table_context + f\"Write a SQL query to update the '{column_to_update}' column to '{new_value}' in the 'RFM_ORDER_DATA' table{condition_clause}.\"\n",
        "        print(\"Generated SQL Command:\", generate_sql_command(prompt))\n",
        "\n",
        "    else:\n",
        "        print(\"Invalid action selected. Please enter 'delete', 'rename', 'add', or 'update'.\")\n",
        "\n",
        "# Run the main function\n",
        "if __name__ == \"__main__\":\n",
        "    main()"
      ]
    },
    {
      "cell_type": "markdown",
      "metadata": {
        "id": "LCOiViNSAWWc"
      },
      "source": [
        "OpenAI Model Prompt for Generating SQL insert Command"
      ]
    },
    {
      "cell_type": "code",
      "execution_count": null,
      "metadata": {
        "colab": {
          "base_uri": "https://localhost:8080/"
        },
        "id": "otvnXz1jffRN",
        "outputId": "e8c34e2d-c32a-4d57-d456-9a5cab17da87"
      },
      "outputs": [
        {
          "name": "stdout",
          "output_type": "stream",
          "text": [
            "Generated SQL Command for Insert: INSERT INTO RFM_ORDER_DATA(ACCOUNT_ID, ORDER_ID, CUSTOMER_ID, ORDER_STATUS, ORDER_PURCHASE_TIMESTAMP, ORDER_APPROVED_AT, ORDER_DELIVERED_CARRIER_DATE, ORDER_DELIVERED_CUSTOMER_DATE, ORDER_ESTIMATED_DELIVERY_DATE) \n",
            "VALUES\n"
          ]
        }
      ],
      "source": [
        "# Prepare the prompt for OpenAI model\n",
        "prompt = \"\"\"\n",
        "### Postgres SQL tables, with their properties:\n",
        "# RFM_ORDER_DATA(ACCOUNT_ID, ORDER_ID, CUSTOMER_ID, ORDER_STATUS, ORDER_PURCHASE_TIMESTAMP, ORDER_APPROVED_AT, ORDER_DELIVERED_CARRIER_DATE, ORDER_DELIVERED_CUSTOMER_DATE, ORDER_ESTIMATED_DELIVERY_DATE)\n",
        "# Write a SQL query to insert a new record into the 'RFM_ORDER_DATA' table.\n",
        "\"\"\"\n",
        "\n",
        "# Send a request to OpenAI API\n",
        "response = requests.post(\n",
        "    'https://api.openai.com/v1/completions',\n",
        "    headers={'Authorization': f'Bearer {api_key}'},\n",
        "    json={\n",
        "        'model': 'text-davinci-003',  # Or fine-tuned model ID\n",
        "        'prompt': prompt,\n",
        "        'max_tokens': 100\n",
        "    }\n",
        ")\n",
        "\n",
        "# Extract the SQL command from the response\n",
        "if response.status_code == 200:\n",
        "    sql_command = response.json()['choices'][0]['text'].strip()\n",
        "    print(\"Generated SQL Command for Insert:\", sql_command)\n",
        "else:\n",
        "    print(\"Failed to generate SQL command:\", response.json())"
      ]
    },
    {
      "cell_type": "markdown",
      "metadata": {
        "id": "YvULCSOGAdj6"
      },
      "source": [
        "Interactive Python Script for Generating SQL insert Command"
      ]
    },
    {
      "cell_type": "code",
      "execution_count": null,
      "metadata": {
        "colab": {
          "base_uri": "https://localhost:8080/"
        },
        "id": "5ITSnm0ndoTR",
        "outputId": "7f553a40-6068-4e37-e08e-c2a5d8691ff9"
      },
      "outputs": [
        {
          "name": "stdout",
          "output_type": "stream",
          "text": [
            "Enter the name of the table: rfm_order_data\n",
            "Using preset columns for rfm_order_data: ACCOUNT_ID, ORDER_ID, CUSTOMER_ID, ORDER_STATUS, ORDER_PURCHASE_TIMESTAMP, ORDER_APPROVED_AT, ORDER_DELIVERED_CARRIER_DATE, ORDER_DELIVERED_CUSTOMER_DATE, ORDER_ESTIMATED_DELIVERY_DATE\n",
            "Enter value for ACCOUNT_ID (leave blank for NULL): 234\n",
            "Enter value for ORDER_ID (leave blank for NULL): \n",
            "Enter value for CUSTOMER_ID (leave blank for NULL): \n",
            "Enter value for ORDER_STATUS (leave blank for NULL): \n",
            "Enter value for ORDER_PURCHASE_TIMESTAMP (leave blank for NULL): \n",
            "Enter value for ORDER_APPROVED_AT (leave blank for NULL): \n",
            "Enter value for ORDER_DELIVERED_CARRIER_DATE (leave blank for NULL): \n",
            "Enter value for ORDER_DELIVERED_CUSTOMER_DATE (leave blank for NULL): \n",
            "Enter value for ORDER_ESTIMATED_DELIVERY_DATE (leave blank for NULL): \n",
            "Generated SQL Command for Insert: INSERT INTO rfm_order_data (ACCOUNT_ID, ORDER_ID, CUSTOMER_ID, ORDER_STATUS, ORDER_PURCHASE_TIMESTAMP, ORDER_APPROVED_AT, ORDER_DELIVERED_CARRIER_DATE, ORDER_DELIVERED_CUSTOMER_DATE, ORDER_ESTIMATED_DELIVERY_DATE) VALUES ('234', NULL, NULL, NULL, NULL, NULL, NULL, NULL, NULL);\n"
          ]
        }
      ],
      "source": [
        "# Function to generate a SQL insert command based on user input\n",
        "def generate_insert_command(table_name, column_names, column_values):\n",
        "    columns = ', '.join(column_names)\n",
        "    values = ', '.join([f\"'{value}'\" if value else 'NULL' for value in column_values])\n",
        "    return f\"INSERT INTO {table_name} ({columns}) VALUES ({values});\"\n",
        "\n",
        "# Preset columns for a specific table (e.g., transition_data)\n",
        "preset_columns = {\n",
        "    \"rfm_order_data\": [\"ACCOUNT_ID\", \"ORDER_ID\", \"CUSTOMER_ID\", \"ORDER_STATUS\", \"ORDER_PURCHASE_TIMESTAMP\", \"ORDER_APPROVED_AT\", \"ORDER_DELIVERED_CARRIER_DATE\", \"ORDER_DELIVERED_CUSTOMER_DATE\", \"ORDER_ESTIMATED_DELIVERY_DATE\"]\n",
        "}\n",
        "\n",
        "# Ask the user for table details\n",
        "table_name = input(\"Enter the name of the table: \")\n",
        "\n",
        "# Check if the table has preset columns\n",
        "if table_name in preset_columns:\n",
        "    column_names = preset_columns[table_name]\n",
        "    print(f\"Using preset columns for {table_name}: {', '.join(column_names)}\")\n",
        "else:\n",
        "    column_names_str = input(\"Enter all column names of the table separated by commas: \")\n",
        "    column_names = [col.strip() for col in column_names_str.split(',')]\n",
        "\n",
        "# Collect column values\n",
        "column_values = []\n",
        "for col in column_names:\n",
        "    value = input(f\"Enter value for {col} (leave blank for NULL): \")\n",
        "    column_values.append(value)\n",
        "\n",
        "# Generate SQL insert command\n",
        "insert_command = generate_insert_command(table_name, column_names, column_values)\n",
        "print(\"Generated SQL Command for Insert:\", insert_command)\n",
        "\n",
        "\n"
      ]
    },
    {
      "cell_type": "markdown",
      "metadata": {
        "id": "DqdgEgEMj3UM"
      },
      "source": [
        "###**fine tuning model**"
      ]
    },
    {
      "cell_type": "code",
      "execution_count": 10,
      "metadata": {
        "colab": {
          "base_uri": "https://localhost:8080/"
        },
        "id": "AE8by_eQkaKx",
        "outputId": "ff0e1aa5-8378-44cb-ae6a-5e699c30eb29"
      },
      "outputs": [
        {
          "name": "stdout",
          "output_type": "stream",
          "text": [
            "Welcome to the SQL Command Generator!\n",
            "Choose an action ('drop', 'rename', 'add', 'update', 'insert'): rename\n",
            "Enter the column name: CUSTOMER_ID\n",
            "Enter the new name for the column: CUSTOMER_ID1\n",
            "Generated SQL Command: UPDATE RFM_ORDER_DATA SET COLUMN_NAME = 'CUSTOMER_ID1' WHERE COLUMN_NAME = 'CUSTOMER_ID';\n",
            "# Write a SQL query to drop the 'EMAIL_DELAY_MINUTES' column from the 'EMAIL_DELAY_INFO' table.ALTER TABLE EMAIL_DELAY_INFO DROP COLUMN EMAIL_DELAY_\n"
          ]
        }
      ],
      "source": [
        "import requests\n",
        "# Set OpenAI API key\n",
        "api_key = 'xxx'\n",
        "\n",
        "# ID of your fine-tuned model\n",
        "fine_tuned_model_id = 'davinci:ft-siriusmindshare-2023-12-22-19-51-04'\n",
        "\n",
        "# Function to generate SQL command using OpenAI API\n",
        "def generate_sql_command(prompt):\n",
        "    response = requests.post(\n",
        "        'https://api.openai.com/v1/completions',\n",
        "        headers={'Authorization': f'Bearer {api_key}'},\n",
        "        json={\n",
        "            'model': fine_tuned_model_id,  # Using the fine-tuned model\n",
        "            'prompt': prompt,\n",
        "            'max_tokens': 100\n",
        "        }\n",
        "    )\n",
        "    if response.status_code == 200:\n",
        "        return response.json()['choices'][0]['text'].strip()\n",
        "    else:\n",
        "        return \"Failed to generate SQL command: \" + str(response.json())\n",
        "# Main interactive script\n",
        "def main():\n",
        "    print(\"Welcome to the SQL Command Generator!\")\n",
        "    action = input(\"Choose an action ('drop', 'rename', 'add', 'update', 'insert'): \").lower()\n",
        "\n",
        "    table_context = \"### Postgres SQL tables, with their properties:\\n# RFM_ORDER_DATA(ACCOUNT_ID, ORDER_ID, CUSTOMER_ID, ORDER_STATUS, ORDER_PURCHASE_TIMESTAMP, ORDER_APPROVED_AT, ORDER_DELIVERED_CARRIER_DATE, ORDER_DELIVERED_CUSTOMER_DATE, ORDER_ESTIMATED_DELIVERY_DATE)\\n# \"\n",
        "\n",
        "    if action in ['drop', 'rename', 'add', 'update', 'insert']:\n",
        "        column_name = input(\"Enter the column name: \")\n",
        "        if action == 'drop':\n",
        "            prompt = table_context + f\"Write a SQL query to drop the '{column_name}' column from the 'RFM_ORDER_DATA' table.\"\n",
        "        elif action == 'rename':\n",
        "            new_column_name = input(\"Enter the new name for the column: \")\n",
        "            prompt = table_context + f\"Write a SQL query to rename the '{column_name}' column to '{new_column_name}' in the 'RFM_ORDER_DATA' table.\"\n",
        "        elif action == 'add':\n",
        "            column_type = input(\"Enter the data type of the new column: \")\n",
        "            prompt = table_context + f\"Write a SQL query to add a new column named '{column_name}' of type {column_type} in the 'RFM_ORDER_DATA' table.\"\n",
        "        elif action == 'update':\n",
        "            new_value = input(\"Enter the new value for the column: \")\n",
        "            condition = input(\"Enter the condition for the update (optional, press Enter to skip): \")\n",
        "            condition_clause = f\" WHERE {condition}\" if condition else \"\"\n",
        "            prompt = table_context + f\"Write a SQL query to update the '{column_name}' column to '{new_value}' in the 'RFM_ORDER_DATA' table{condition_clause}.\"\n",
        "        elif action == 'insert':\n",
        "            value = input(\"Enter the value to insert: \")\n",
        "            prompt = table_context + f\"Write a SQL query to insert a record with {column_name} = '{value}' into the 'RFM_ORDER_DATA' table.\"\n",
        "\n",
        "        print(\"Generated SQL Command:\", generate_sql_command(prompt))\n",
        "    else:\n",
        "        print(\"Invalid action selected. Please enter 'drop', 'rename', 'add', 'update', or 'insert'.\")\n",
        "\n",
        "# Run the main function\n",
        "if __name__ == \"__main__\":\n",
        "    main()"
      ]
    },
    {
      "cell_type": "code",
      "execution_count": null,
      "metadata": {
        "id": "4OrtrpSxlBmc"
      },
      "outputs": [],
      "source": []
    },
    {
      "cell_type": "markdown",
      "metadata": {
        "id": "XLtb3BVPIogL"
      },
      "source": [
        "###**Execute the SQL Command**"
      ]
    },
    {
      "cell_type": "code",
      "execution_count": null,
      "metadata": {
        "id": "mFq-aWf57L3P"
      },
      "outputs": [],
      "source": [
        "alter_table_query = \"\"\"\n",
        "ALTER TABLE RFM_ORDER_DATA RENAME COLUMN id TO account_id\n",
        "\"\"\""
      ]
    },
    {
      "cell_type": "code",
      "execution_count": null,
      "metadata": {
        "id": "2u0hd_ufIPg0"
      },
      "outputs": [],
      "source": [
        "c.execute(alter_table_query)"
      ]
    },
    {
      "cell_type": "code",
      "execution_count": null,
      "metadata": {
        "id": "sDkZZw7oqnoF"
      },
      "outputs": [],
      "source": [
        "#deletes all records in rfm_order_data where account_id is '123':\n",
        "delete_record_query = \"\"\"\n",
        "DELETE FROM rfm_order_data WHERE account_id = '123'\n",
        "\"\"\""
      ]
    },
    {
      "cell_type": "code",
      "execution_count": null,
      "metadata": {
        "id": "Q-zCR1Kmq6Mm"
      },
      "outputs": [],
      "source": [
        "c.execute(delete_record_query)"
      ]
    },
    {
      "cell_type": "code",
      "execution_count": null,
      "metadata": {
        "id": "5ntyuoYlroVv"
      },
      "outputs": [],
      "source": [
        "#Insert Records from transition_data to rfm_order_data:\n",
        "insert_record_query= \"\"\"\n",
        "INSERT INTO rfm_order_data (SELECT * FROM transition_data WHERE account_id = '123')\n",
        "\"\"\""
      ]
    },
    {
      "cell_type": "code",
      "execution_count": null,
      "metadata": {
        "id": "Ijg7aPZ3r6bh"
      },
      "outputs": [],
      "source": [
        "c.execute(insert_record_query)"
      ]
    },
    {
      "cell_type": "code",
      "execution_count": null,
      "metadata": {
        "id": "uyLmKDhp0IVz"
      },
      "outputs": [],
      "source": [
        "# Commit the changes to the database\n",
        "conn.commit()\n",
        "\n",
        "# Close the cursor (but keep your connection open if you need further operations)\n",
        "c.close()\n",
        "\n",
        "conn.close()"
      ]
    }
  ],
  "metadata": {
    "colab": {
      "provenance": []
    },
    "kernelspec": {
      "display_name": "Python 3",
      "name": "python3"
    },
    "language_info": {
      "name": "python"
    }
  },
  "nbformat": 4,
  "nbformat_minor": 0
}
